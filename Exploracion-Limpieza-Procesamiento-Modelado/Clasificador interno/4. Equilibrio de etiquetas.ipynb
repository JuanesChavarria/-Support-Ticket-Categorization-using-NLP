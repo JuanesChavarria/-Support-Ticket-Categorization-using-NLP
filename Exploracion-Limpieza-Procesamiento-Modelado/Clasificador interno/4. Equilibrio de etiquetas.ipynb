{
 "cells": [
  {
   "cell_type": "code",
   "execution_count": 1,
   "metadata": {},
   "outputs": [],
   "source": [
    "import numpy as np\n",
    "import pandas as pd\n",
    "import matplotlib.pyplot as plt\n",
    "from matplotlib.ticker import PercentFormatter\n",
    "from ast import literal_eval"
   ]
  },
  {
   "cell_type": "code",
   "execution_count": 2,
   "metadata": {},
   "outputs": [
    {
     "name": "stdout",
     "output_type": "stream",
     "text": [
      "Wall time: 25.9 ms\n"
     ]
    }
   ],
   "source": [
    "%time datos = pd.read_csv('data_tokens.csv')"
   ]
  },
  {
   "cell_type": "code",
   "execution_count": 3,
   "metadata": {},
   "outputs": [
    {
     "name": "stdout",
     "output_type": "stream",
     "text": [
      "Wall time: 163 ms\n"
     ]
    }
   ],
   "source": [
    "%time datos.tokens=datos.tokens.apply(literal_eval)"
   ]
  },
  {
   "cell_type": "code",
   "execution_count": 4,
   "metadata": {},
   "outputs": [],
   "source": [
    "# tickets_cortos=pd.read_csv('tickets_cortos.csv')\n",
    "similares = pd.read_csv(\"similares.csv\")"
   ]
  },
  {
   "cell_type": "code",
   "execution_count": 5,
   "metadata": {},
   "outputs": [],
   "source": [
    "datos.drop(index=list(map(lambda elemento: elemento[0],list(similares.values)))\n",
    "           ,inplace=True\n",
    "          )"
   ]
  },
  {
   "cell_type": "code",
   "execution_count": 6,
   "metadata": {},
   "outputs": [
    {
     "data": {
      "text/html": [
       "<div>\n",
       "<style scoped>\n",
       "    .dataframe tbody tr th:only-of-type {\n",
       "        vertical-align: middle;\n",
       "    }\n",
       "\n",
       "    .dataframe tbody tr th {\n",
       "        vertical-align: top;\n",
       "    }\n",
       "\n",
       "    .dataframe thead th {\n",
       "        text-align: right;\n",
       "    }\n",
       "</style>\n",
       "<table border=\"1\" class=\"dataframe\">\n",
       "  <thead>\n",
       "    <tr style=\"text-align: right;\">\n",
       "      <th></th>\n",
       "      <th>conteo</th>\n",
       "      <th>porcentaje</th>\n",
       "      <th>acumulado</th>\n",
       "    </tr>\n",
       "  </thead>\n",
       "  <tbody>\n",
       "    <tr>\n",
       "      <th>1</th>\n",
       "      <td>1053</td>\n",
       "      <td>38.571429</td>\n",
       "      <td>38.571429</td>\n",
       "    </tr>\n",
       "    <tr>\n",
       "      <th>2</th>\n",
       "      <td>422</td>\n",
       "      <td>15.457875</td>\n",
       "      <td>54.029304</td>\n",
       "    </tr>\n",
       "    <tr>\n",
       "      <th>0</th>\n",
       "      <td>400</td>\n",
       "      <td>14.652015</td>\n",
       "      <td>68.681319</td>\n",
       "    </tr>\n",
       "    <tr>\n",
       "      <th>3</th>\n",
       "      <td>293</td>\n",
       "      <td>10.732601</td>\n",
       "      <td>79.413919</td>\n",
       "    </tr>\n",
       "    <tr>\n",
       "      <th>4</th>\n",
       "      <td>197</td>\n",
       "      <td>7.216117</td>\n",
       "      <td>86.630037</td>\n",
       "    </tr>\n",
       "    <tr>\n",
       "      <th>5</th>\n",
       "      <td>185</td>\n",
       "      <td>6.776557</td>\n",
       "      <td>93.406593</td>\n",
       "    </tr>\n",
       "    <tr>\n",
       "      <th>6</th>\n",
       "      <td>180</td>\n",
       "      <td>6.593407</td>\n",
       "      <td>100.000000</td>\n",
       "    </tr>\n",
       "  </tbody>\n",
       "</table>\n",
       "</div>"
      ],
      "text/plain": [
       "   conteo  porcentaje   acumulado\n",
       "1    1053   38.571429   38.571429\n",
       "2     422   15.457875   54.029304\n",
       "0     400   14.652015   68.681319\n",
       "3     293   10.732601   79.413919\n",
       "4     197    7.216117   86.630037\n",
       "5     185    6.776557   93.406593\n",
       "6     180    6.593407  100.000000"
      ]
     },
     "execution_count": 6,
     "metadata": {},
     "output_type": "execute_result"
    }
   ],
   "source": [
    "conteo_categorias=datos['etiquetas'].value_counts()\n",
    "tabla_categorias=pd.DataFrame()\n",
    "tabla_categorias['conteo']=conteo_categorias\n",
    "tabla_categorias['porcentaje']=(conteo_categorias/datos.shape[0]*100)\n",
    "tabla_categorias['acumulado']=tabla_categorias['porcentaje'].cumsum()\n",
    "tabla_categorias"
   ]
  },
  {
   "cell_type": "code",
   "execution_count": 7,
   "metadata": {},
   "outputs": [
    {
     "data": {
      "text/html": [
       "<div>\n",
       "<style scoped>\n",
       "    .dataframe tbody tr th:only-of-type {\n",
       "        vertical-align: middle;\n",
       "    }\n",
       "\n",
       "    .dataframe tbody tr th {\n",
       "        vertical-align: top;\n",
       "    }\n",
       "\n",
       "    .dataframe thead th {\n",
       "        text-align: right;\n",
       "    }\n",
       "</style>\n",
       "<table border=\"1\" class=\"dataframe\">\n",
       "  <thead>\n",
       "    <tr style=\"text-align: right;\">\n",
       "      <th></th>\n",
       "      <th>conteo</th>\n",
       "      <th>porcentaje</th>\n",
       "      <th>acumulado</th>\n",
       "    </tr>\n",
       "  </thead>\n",
       "  <tbody>\n",
       "    <tr>\n",
       "      <th>HR Request</th>\n",
       "      <td>147</td>\n",
       "      <td>5.384615</td>\n",
       "      <td>5.384615</td>\n",
       "    </tr>\n",
       "    <tr>\n",
       "      <th>Interface Input</th>\n",
       "      <td>116</td>\n",
       "      <td>4.249084</td>\n",
       "      <td>9.633700</td>\n",
       "    </tr>\n",
       "    <tr>\n",
       "      <th>External Request</th>\n",
       "      <td>71</td>\n",
       "      <td>2.600733</td>\n",
       "      <td>12.234432</td>\n",
       "    </tr>\n",
       "    <tr>\n",
       "      <th>Employee Request</th>\n",
       "      <td>27</td>\n",
       "      <td>0.989011</td>\n",
       "      <td>13.223443</td>\n",
       "    </tr>\n",
       "    <tr>\n",
       "      <th>Certified Payroll</th>\n",
       "      <td>26</td>\n",
       "      <td>0.952381</td>\n",
       "      <td>14.175824</td>\n",
       "    </tr>\n",
       "    <tr>\n",
       "      <th>Audit</th>\n",
       "      <td>9</td>\n",
       "      <td>0.329670</td>\n",
       "      <td>14.505495</td>\n",
       "    </tr>\n",
       "    <tr>\n",
       "      <th>Pay Admin Request</th>\n",
       "      <td>2</td>\n",
       "      <td>0.073260</td>\n",
       "      <td>14.578755</td>\n",
       "    </tr>\n",
       "    <tr>\n",
       "      <th>Reprint Request</th>\n",
       "      <td>2</td>\n",
       "      <td>0.073260</td>\n",
       "      <td>14.652015</td>\n",
       "    </tr>\n",
       "  </tbody>\n",
       "</table>\n",
       "</div>"
      ],
      "text/plain": [
       "                   conteo  porcentaje  acumulado\n",
       "HR Request            147    5.384615   5.384615\n",
       "Interface Input       116    4.249084   9.633700\n",
       "External Request       71    2.600733  12.234432\n",
       "Employee Request       27    0.989011  13.223443\n",
       "Certified Payroll      26    0.952381  14.175824\n",
       "Audit                   9    0.329670  14.505495\n",
       "Pay Admin Request       2    0.073260  14.578755\n",
       "Reprint Request         2    0.073260  14.652015"
      ]
     },
     "execution_count": 7,
     "metadata": {},
     "output_type": "execute_result"
    }
   ],
   "source": [
    "conteo_categorias=datos.query(\"etiquetas==0\").categorias.value_counts()\n",
    "tabla_categorias=pd.DataFrame()\n",
    "tabla_categorias['conteo']=conteo_categorias\n",
    "tabla_categorias['porcentaje']=(conteo_categorias/datos.shape[0]*100)\n",
    "tabla_categorias['acumulado']=tabla_categorias['porcentaje'].cumsum()\n",
    "tabla_categorias"
   ]
  },
  {
   "cell_type": "code",
   "execution_count": 21,
   "metadata": {},
   "outputs": [],
   "source": [
    "filtro_otros=[]\n",
    "for nombre,grupo in datos.query(\"etiquetas==0\").groupby('categorias'):\n",
    "    if nombre in ['HR Request','Interface Input','External Request']:\n",
    "        filtro_otros.append(grupo.loc[np.random.choice(grupo.index,60)])\n",
    "    else:\n",
    "        filtro_otros.append(grupo)\n",
    "filtro_otros=pd.concat(filtro_otros)"
   ]
  },
  {
   "cell_type": "code",
   "execution_count": 23,
   "metadata": {},
   "outputs": [
    {
     "data": {
      "text/plain": [
       "246"
      ]
     },
     "execution_count": 23,
     "metadata": {},
     "output_type": "execute_result"
    }
   ],
   "source": [
    "filtro_otros.categorias.value_counts().sum()"
   ]
  },
  {
   "cell_type": "code",
   "execution_count": 24,
   "metadata": {},
   "outputs": [
    {
     "data": {
      "text/plain": [
       "1    285\n",
       "2    222\n",
       "0    220\n",
       "3    209\n",
       "4    199\n",
       "5    198\n",
       "6    180\n",
       "Name: etiquetas, dtype: int32"
      ]
     },
     "execution_count": 24,
     "metadata": {},
     "output_type": "execute_result"
    }
   ],
   "source": [
    "conteo=datos.etiquetas.value_counts()\n",
    "minimo=conteo.min()\n",
    "cantidades=conteo.apply(lambda contador: minimo+contador*0.1 if contador!=minimo else contador).astype(int)\n",
    "cantidades"
   ]
  },
  {
   "cell_type": "code",
   "execution_count": 25,
   "metadata": {},
   "outputs": [],
   "source": [
    "# cantidades.loc[0]=tabla_categorias.loc[0,'conteo']\n",
    "# cantidades.sort_values(ascending=False)"
   ]
  },
  {
   "cell_type": "code",
   "execution_count": 26,
   "metadata": {},
   "outputs": [],
   "source": [
    "datos_equilibrados = pd.concat([grupo.loc[np.random.choice(grupo.index,cantidades.loc[nombre])] for nombre,grupo in datos.groupby('etiquetas') if nombre!=0])"
   ]
  },
  {
   "cell_type": "code",
   "execution_count": 27,
   "metadata": {},
   "outputs": [
    {
     "data": {
      "text/plain": [
       "1    285\n",
       "2    222\n",
       "3    209\n",
       "4    199\n",
       "5    198\n",
       "6    180\n",
       "Name: etiquetas, dtype: int64"
      ]
     },
     "execution_count": 27,
     "metadata": {},
     "output_type": "execute_result"
    }
   ],
   "source": [
    "datos_equilibrados.etiquetas.value_counts()"
   ]
  },
  {
   "cell_type": "code",
   "execution_count": 28,
   "metadata": {},
   "outputs": [],
   "source": [
    "datos_equilibrados=datos_equilibrados.append(filtro_otros)"
   ]
  },
  {
   "cell_type": "code",
   "execution_count": 29,
   "metadata": {},
   "outputs": [
    {
     "data": {
      "text/html": [
       "<div>\n",
       "<style scoped>\n",
       "    .dataframe tbody tr th:only-of-type {\n",
       "        vertical-align: middle;\n",
       "    }\n",
       "\n",
       "    .dataframe tbody tr th {\n",
       "        vertical-align: top;\n",
       "    }\n",
       "\n",
       "    .dataframe thead th {\n",
       "        text-align: right;\n",
       "    }\n",
       "</style>\n",
       "<table border=\"1\" class=\"dataframe\">\n",
       "  <thead>\n",
       "    <tr style=\"text-align: right;\">\n",
       "      <th></th>\n",
       "      <th>categorias</th>\n",
       "      <th>tokens</th>\n",
       "      <th>etiquetas</th>\n",
       "    </tr>\n",
       "  </thead>\n",
       "  <tbody>\n",
       "    <tr>\n",
       "      <th>786</th>\n",
       "      <td>Bswift</td>\n",
       "      <td>[follow, death, notif, task, detail, provid, w...</td>\n",
       "      <td>1</td>\n",
       "    </tr>\n",
       "    <tr>\n",
       "      <th>1001</th>\n",
       "      <td>Bswift</td>\n",
       "      <td>[hsa, account, refund, fail, vet, afternoon, m...</td>\n",
       "      <td>1</td>\n",
       "    </tr>\n",
       "    <tr>\n",
       "      <th>984</th>\n",
       "      <td>Bswift</td>\n",
       "      <td>[retire, beneficiari, chang, send, address, ad...</td>\n",
       "      <td>1</td>\n",
       "    </tr>\n",
       "    <tr>\n",
       "      <th>228</th>\n",
       "      <td>Bswift</td>\n",
       "      <td>[retir, benefit, task, cousin, tri, take, care...</td>\n",
       "      <td>1</td>\n",
       "    </tr>\n",
       "    <tr>\n",
       "      <th>421</th>\n",
       "      <td>Bswift</td>\n",
       "      <td>[pension, question, name, behalf, mom, verifi,...</td>\n",
       "      <td>1</td>\n",
       "    </tr>\n",
       "    <tr>\n",
       "      <th>...</th>\n",
       "      <td>...</td>\n",
       "      <td>...</td>\n",
       "      <td>...</td>\n",
       "    </tr>\n",
       "    <tr>\n",
       "      <th>1408</th>\n",
       "      <td>Interface Input</td>\n",
       "      <td>[attent, ab, team, pleas, creat, posit, hello,...</td>\n",
       "      <td>0</td>\n",
       "    </tr>\n",
       "    <tr>\n",
       "      <th>2290</th>\n",
       "      <td>Pay Admin Request</td>\n",
       "      <td>[rate, increas, effect, pleas, enter, rate, pe...</td>\n",
       "      <td>0</td>\n",
       "    </tr>\n",
       "    <tr>\n",
       "      <th>2291</th>\n",
       "      <td>Pay Admin Request</td>\n",
       "      <td>[import, addit, tax, slip, need, tax, import, ...</td>\n",
       "      <td>0</td>\n",
       "    </tr>\n",
       "    <tr>\n",
       "      <th>2292</th>\n",
       "      <td>Reprint Request</td>\n",
       "      <td>[afternoon, look, copi, paystub, date, pleas, ...</td>\n",
       "      <td>0</td>\n",
       "    </tr>\n",
       "    <tr>\n",
       "      <th>2293</th>\n",
       "      <td>Reprint Request</td>\n",
       "      <td>[stub, request, name, verifi, ssn, verifi, dob...</td>\n",
       "      <td>0</td>\n",
       "    </tr>\n",
       "  </tbody>\n",
       "</table>\n",
       "<p>1539 rows × 3 columns</p>\n",
       "</div>"
      ],
      "text/plain": [
       "             categorias                                             tokens  \\\n",
       "786              Bswift  [follow, death, notif, task, detail, provid, w...   \n",
       "1001             Bswift  [hsa, account, refund, fail, vet, afternoon, m...   \n",
       "984              Bswift  [retire, beneficiari, chang, send, address, ad...   \n",
       "228              Bswift  [retir, benefit, task, cousin, tri, take, care...   \n",
       "421              Bswift  [pension, question, name, behalf, mom, verifi,...   \n",
       "...                 ...                                                ...   \n",
       "1408    Interface Input  [attent, ab, team, pleas, creat, posit, hello,...   \n",
       "2290  Pay Admin Request  [rate, increas, effect, pleas, enter, rate, pe...   \n",
       "2291  Pay Admin Request  [import, addit, tax, slip, need, tax, import, ...   \n",
       "2292    Reprint Request  [afternoon, look, copi, paystub, date, pleas, ...   \n",
       "2293    Reprint Request  [stub, request, name, verifi, ssn, verifi, dob...   \n",
       "\n",
       "      etiquetas  \n",
       "786           1  \n",
       "1001          1  \n",
       "984           1  \n",
       "228           1  \n",
       "421           1  \n",
       "...         ...  \n",
       "1408          0  \n",
       "2290          0  \n",
       "2291          0  \n",
       "2292          0  \n",
       "2293          0  \n",
       "\n",
       "[1539 rows x 3 columns]"
      ]
     },
     "execution_count": 29,
     "metadata": {},
     "output_type": "execute_result"
    }
   ],
   "source": [
    "datos_equilibrados"
   ]
  },
  {
   "cell_type": "code",
   "execution_count": 30,
   "metadata": {},
   "outputs": [
    {
     "data": {
      "text/html": [
       "<div>\n",
       "<style scoped>\n",
       "    .dataframe tbody tr th:only-of-type {\n",
       "        vertical-align: middle;\n",
       "    }\n",
       "\n",
       "    .dataframe tbody tr th {\n",
       "        vertical-align: top;\n",
       "    }\n",
       "\n",
       "    .dataframe thead th {\n",
       "        text-align: right;\n",
       "    }\n",
       "</style>\n",
       "<table border=\"1\" class=\"dataframe\">\n",
       "  <thead>\n",
       "    <tr style=\"text-align: right;\">\n",
       "      <th></th>\n",
       "      <th>conteo</th>\n",
       "      <th>porcentaje</th>\n",
       "      <th>acumulado</th>\n",
       "    </tr>\n",
       "  </thead>\n",
       "  <tbody>\n",
       "    <tr>\n",
       "      <th>1</th>\n",
       "      <td>285</td>\n",
       "      <td>10.439560</td>\n",
       "      <td>10.439560</td>\n",
       "    </tr>\n",
       "    <tr>\n",
       "      <th>0</th>\n",
       "      <td>246</td>\n",
       "      <td>9.010989</td>\n",
       "      <td>19.450549</td>\n",
       "    </tr>\n",
       "    <tr>\n",
       "      <th>2</th>\n",
       "      <td>222</td>\n",
       "      <td>8.131868</td>\n",
       "      <td>27.582418</td>\n",
       "    </tr>\n",
       "    <tr>\n",
       "      <th>3</th>\n",
       "      <td>209</td>\n",
       "      <td>7.655678</td>\n",
       "      <td>35.238095</td>\n",
       "    </tr>\n",
       "    <tr>\n",
       "      <th>4</th>\n",
       "      <td>199</td>\n",
       "      <td>7.289377</td>\n",
       "      <td>42.527473</td>\n",
       "    </tr>\n",
       "    <tr>\n",
       "      <th>5</th>\n",
       "      <td>198</td>\n",
       "      <td>7.252747</td>\n",
       "      <td>49.780220</td>\n",
       "    </tr>\n",
       "    <tr>\n",
       "      <th>6</th>\n",
       "      <td>180</td>\n",
       "      <td>6.593407</td>\n",
       "      <td>56.373626</td>\n",
       "    </tr>\n",
       "  </tbody>\n",
       "</table>\n",
       "</div>"
      ],
      "text/plain": [
       "   conteo  porcentaje  acumulado\n",
       "1     285   10.439560  10.439560\n",
       "0     246    9.010989  19.450549\n",
       "2     222    8.131868  27.582418\n",
       "3     209    7.655678  35.238095\n",
       "4     199    7.289377  42.527473\n",
       "5     198    7.252747  49.780220\n",
       "6     180    6.593407  56.373626"
      ]
     },
     "execution_count": 30,
     "metadata": {},
     "output_type": "execute_result"
    }
   ],
   "source": [
    "conteo_categorias=datos_equilibrados['etiquetas'].value_counts()\n",
    "tabla_categorias=pd.DataFrame()\n",
    "tabla_categorias['conteo']=conteo_categorias\n",
    "tabla_categorias['porcentaje']=(conteo_categorias/datos.shape[0]*100)\n",
    "tabla_categorias['acumulado']=tabla_categorias['porcentaje'].cumsum()\n",
    "tabla_categorias"
   ]
  },
  {
   "cell_type": "code",
   "execution_count": null,
   "metadata": {},
   "outputs": [],
   "source": [
    "datos_equilibrados.to_csv('data_equilibrada.csv',index=False)"
   ]
  },
  {
   "cell_type": "code",
   "execution_count": null,
   "metadata": {},
   "outputs": [],
   "source": []
  }
 ],
 "metadata": {
  "kernelspec": {
   "display_name": "Python 3",
   "language": "python",
   "name": "python3"
  },
  "language_info": {
   "codemirror_mode": {
    "name": "ipython",
    "version": 3
   },
   "file_extension": ".py",
   "mimetype": "text/x-python",
   "name": "python",
   "nbconvert_exporter": "python",
   "pygments_lexer": "ipython3",
   "version": "3.8.5"
  }
 },
 "nbformat": 4,
 "nbformat_minor": 4
}

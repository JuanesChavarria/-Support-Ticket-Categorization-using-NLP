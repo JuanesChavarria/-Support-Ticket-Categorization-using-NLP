{
 "cells": [
  {
   "cell_type": "code",
   "execution_count": 1,
   "metadata": {},
   "outputs": [],
   "source": [
    "import re\n",
    "import nltk\n",
    "import numpy as np\n",
    "import pandas as pd\n",
    "import matplotlib.pyplot as plt"
   ]
  },
  {
   "cell_type": "code",
   "execution_count": 2,
   "metadata": {},
   "outputs": [
    {
     "name": "stderr",
     "output_type": "stream",
     "text": [
      "[nltk_data] Downloading package stopwords to\n",
      "[nltk_data]     C:\\Users\\santi\\AppData\\Roaming\\nltk_data...\n",
      "[nltk_data]   Package stopwords is already up-to-date!\n",
      "[nltk_data] Downloading package words to\n",
      "[nltk_data]     C:\\Users\\santi\\AppData\\Roaming\\nltk_data...\n",
      "[nltk_data]   Package words is already up-to-date!\n"
     ]
    }
   ],
   "source": [
    "nltk.download('stopwords')\n",
    "nltk.download('words')\n",
    "stopwords_nltk = set(nltk.corpus.stopwords.words('english'))"
   ]
  },
  {
   "cell_type": "code",
   "execution_count": 3,
   "metadata": {},
   "outputs": [],
   "source": [
    "def mostrar_frecuencias(datos):\n",
    "    tokens_concatenate=np.concatenate(datos['tokens'])\n",
    "    fdist = nltk.FreqDist(tokens_concatenate)\n",
    "    topwords = fdist.most_common(20)\n",
    "    x,y = zip(*topwords)\n",
    "    print('Numero de tokens:',len(fdist))\n",
    "    for i,token in enumerate(topwords[0:20]):\n",
    "        print(i+1,token)\n",
    "    plt.figure(figsize=(8,6))\n",
    "    plt.bar(x,y)\n",
    "    plt.xticks(rotation=90)\n",
    "    plt.show()"
   ]
  },
  {
   "cell_type": "code",
   "execution_count": 6,
   "metadata": {},
   "outputs": [
    {
     "name": "stdout",
     "output_type": "stream",
     "text": [
      "Wall time: 21 ms\n"
     ]
    }
   ],
   "source": [
    "%time datos = pd.read_csv('data_clean.csv').rename(columns={'ticket':'tokens'})"
   ]
  },
  {
   "cell_type": "code",
   "execution_count": 7,
   "metadata": {},
   "outputs": [
    {
     "data": {
      "text/html": [
       "<div>\n",
       "<style scoped>\n",
       "    .dataframe tbody tr th:only-of-type {\n",
       "        vertical-align: middle;\n",
       "    }\n",
       "\n",
       "    .dataframe tbody tr th {\n",
       "        vertical-align: top;\n",
       "    }\n",
       "\n",
       "    .dataframe thead th {\n",
       "        text-align: right;\n",
       "    }\n",
       "</style>\n",
       "<table border=\"1\" class=\"dataframe\">\n",
       "  <thead>\n",
       "    <tr style=\"text-align: right;\">\n",
       "      <th></th>\n",
       "      <th>categorias</th>\n",
       "      <th>tokens</th>\n",
       "      <th>etiquetas</th>\n",
       "    </tr>\n",
       "  </thead>\n",
       "  <tbody>\n",
       "    <tr>\n",
       "      <th>0</th>\n",
       "      <td>Audit</td>\n",
       "      <td>address i have moved to address yakima st nw m...</td>\n",
       "      <td>0</td>\n",
       "    </tr>\n",
       "    <tr>\n",
       "      <th>1</th>\n",
       "      <td>Audit</td>\n",
       "      <td>testing system</td>\n",
       "      <td>0</td>\n",
       "    </tr>\n",
       "    <tr>\n",
       "      <th>2</th>\n",
       "      <td>Audit</td>\n",
       "      <td>testing system</td>\n",
       "      <td>0</td>\n",
       "    </tr>\n",
       "    <tr>\n",
       "      <th>3</th>\n",
       "      <td>Audit</td>\n",
       "      <td>time audit request afternoon would please prov...</td>\n",
       "      <td>0</td>\n",
       "    </tr>\n",
       "    <tr>\n",
       "      <th>4</th>\n",
       "      <td>Audit</td>\n",
       "      <td>time audit morning would provide a time audit ...</td>\n",
       "      <td>0</td>\n",
       "    </tr>\n",
       "    <tr>\n",
       "      <th>...</th>\n",
       "      <td>...</td>\n",
       "      <td>...</td>\n",
       "      <td>...</td>\n",
       "    </tr>\n",
       "    <tr>\n",
       "      <th>2851</th>\n",
       "      <td>Year-End</td>\n",
       "      <td>l w follow up name l ee id terminated verified...</td>\n",
       "      <td>4</td>\n",
       "    </tr>\n",
       "    <tr>\n",
       "      <th>2852</th>\n",
       "      <td>Year-End</td>\n",
       "      <td>e w inquiry name ee id verified dob yes phone ...</td>\n",
       "      <td>4</td>\n",
       "    </tr>\n",
       "    <tr>\n",
       "      <th>2853</th>\n",
       "      <td>Year-End</td>\n",
       "      <td>v ee id w discrepancy name v ee id ssn confirm...</td>\n",
       "      <td>4</td>\n",
       "    </tr>\n",
       "    <tr>\n",
       "      <th>2854</th>\n",
       "      <td>Year-End</td>\n",
       "      <td>v w inquiry name v ee id verified ssn yes phon...</td>\n",
       "      <td>4</td>\n",
       "    </tr>\n",
       "    <tr>\n",
       "      <th>2855</th>\n",
       "      <td>Year-End</td>\n",
       "      <td>w requests w for and</td>\n",
       "      <td>4</td>\n",
       "    </tr>\n",
       "  </tbody>\n",
       "</table>\n",
       "<p>2856 rows × 3 columns</p>\n",
       "</div>"
      ],
      "text/plain": [
       "     categorias                                             tokens  etiquetas\n",
       "0         Audit  address i have moved to address yakima st nw m...          0\n",
       "1         Audit                                     testing system          0\n",
       "2         Audit                                     testing system          0\n",
       "3         Audit  time audit request afternoon would please prov...          0\n",
       "4         Audit  time audit morning would provide a time audit ...          0\n",
       "...         ...                                                ...        ...\n",
       "2851   Year-End  l w follow up name l ee id terminated verified...          4\n",
       "2852   Year-End  e w inquiry name ee id verified dob yes phone ...          4\n",
       "2853   Year-End  v ee id w discrepancy name v ee id ssn confirm...          4\n",
       "2854   Year-End  v w inquiry name v ee id verified ssn yes phon...          4\n",
       "2855   Year-End                               w requests w for and          4\n",
       "\n",
       "[2856 rows x 3 columns]"
      ]
     },
     "execution_count": 7,
     "metadata": {},
     "output_type": "execute_result"
    }
   ],
   "source": [
    "datos"
   ]
  },
  {
   "cell_type": "code",
   "execution_count": 8,
   "metadata": {},
   "outputs": [
    {
     "name": "stdout",
     "output_type": "stream",
     "text": [
      "Wall time: 730 ms\n"
     ]
    }
   ],
   "source": [
    "# tokenizacion\n",
    "%time datos['tokens']=datos['tokens'].apply(nltk.word_tokenize)"
   ]
  },
  {
   "cell_type": "code",
   "execution_count": 9,
   "metadata": {},
   "outputs": [
    {
     "name": "stdout",
     "output_type": "stream",
     "text": [
      "Numero de tokens: 7799\n",
      "1 ('to', 7792)\n",
      "2 ('and', 4561)\n",
      "3 ('this', 3335)\n",
      "4 ('email', 3256)\n",
      "5 ('a', 3077)\n",
      "6 ('from', 2824)\n",
      "7 ('is', 2474)\n",
      "8 ('he', 2414)\n",
      "9 ('of', 2384)\n",
      "10 ('for', 2331)\n",
      "11 ('it', 2249)\n",
      "12 ('i', 2196)\n",
      "13 ('please', 2069)\n",
      "14 ('in', 1843)\n",
      "15 ('an', 1535)\n",
      "16 ('on', 1485)\n",
      "17 ('not', 1451)\n",
      "18 ('his', 1427)\n",
      "19 ('us', 1420)\n",
      "20 ('e', 1364)\n"
     ]
    },
    {
     "data": {
      "image/png": "[encoded data removed]",
      "text/plain": [
       "<Figure size 576x432 with 1 Axes>"
      ]
     },
     "metadata": {
      "needs_background": "light"
     },
     "output_type": "display_data"
    },
    {
     "name": "stdout",
     "output_type": "stream",
     "text": [
      "Wall time: 453 ms\n"
     ]
    }
   ],
   "source": [
    "%time mostrar_frecuencias(datos)"
   ]
  },
  {
   "cell_type": "code",
   "execution_count": 10,
   "metadata": {},
   "outputs": [
    {
     "name": "stdout",
     "output_type": "stream",
     "text": [
      "Wall time: 305 ms\n"
     ]
    }
   ],
   "source": [
    "# limpieza de tokens\n",
    "def limpiar_tokens(tokens):\n",
    "    tokens=[re.sub(r'[^A-Za-z0-9]+',' ',token) for token in tokens]\n",
    "    tokens=[token.lower() for token in tokens if len(token)>2]\n",
    "    tokens=[token for token in tokens if token not in stopwords_nltk]\n",
    "    return tokens\n",
    "\n",
    "%time datos['tokens']=datos['tokens'].apply(limpiar_tokens)"
   ]
  },
  {
   "cell_type": "code",
   "execution_count": 11,
   "metadata": {},
   "outputs": [
    {
     "name": "stdout",
     "output_type": "stream",
     "text": [
      "Numero de tokens: 7301\n",
      "1 ('email', 3256)\n",
      "2 ('please', 2069)\n",
      "3 ('send', 1230)\n",
      "4 ('phone', 1192)\n",
      "5 ('group', 1187)\n",
      "6 ('number', 1118)\n",
      "7 ('receiving', 1033)\n",
      "8 ('stop', 997)\n",
      "9 ('emails', 988)\n",
      "10 ('unsubscribe', 973)\n",
      "11 ('information', 926)\n",
      "12 ('name', 893)\n",
      "13 ('verified', 891)\n",
      "14 ('lafargeholcim', 829)\n",
      "15 ('address', 828)\n",
      "16 ('com', 818)\n",
      "17 ('info', 796)\n",
      "18 ('www', 796)\n",
      "19 ('mail', 770)\n",
      "20 ('ssn', 759)\n"
     ]
    },
    {
     "data": {
      "image/png": "[encoded data removed]",
      "text/plain": [
       "<Figure size 576x432 with 1 Axes>"
      ]
     },
     "metadata": {
      "needs_background": "light"
     },
     "output_type": "display_data"
    },
    {
     "name": "stdout",
     "output_type": "stream",
     "text": [
      "Wall time: 385 ms\n"
     ]
    }
   ],
   "source": [
    "%time mostrar_frecuencias(datos)"
   ]
  },
  {
   "cell_type": "code",
   "execution_count": 12,
   "metadata": {},
   "outputs": [
    {
     "name": "stdout",
     "output_type": "stream",
     "text": [
      "Wall time: 57.4 s\n"
     ]
    }
   ],
   "source": [
    "tag_dict = {\n",
    "    \"J\": nltk.corpus.wordnet.ADJ,\n",
    "    \"N\": nltk.corpus.wordnet.NOUN,\n",
    "    \"V\": nltk.corpus.wordnet.VERB,\n",
    "    \"R\": nltk.corpus.wordnet.ADV\n",
    "}\n",
    "\n",
    "lemmatizer = nltk.stem.WordNetLemmatizer()\n",
    "noun=nltk.corpus.wordnet.NOUN\n",
    "%time datos['tokens']=datos['tokens'].apply(lambda tokens: [lemmatizer.lemmatize(token, tag_dict.get(nltk.pos_tag([token])[0][1][0].upper(), noun)) for token in tokens])"
   ]
  },
  {
   "cell_type": "code",
   "execution_count": 13,
   "metadata": {},
   "outputs": [
    {
     "name": "stdout",
     "output_type": "stream",
     "text": [
      "Numero de tokens: 6454\n",
      "1 ('email', 4270)\n",
      "2 ('please', 2069)\n",
      "3 ('receive', 1826)\n",
      "4 ('send', 1274)\n",
      "5 ('phone', 1195)\n",
      "6 ('group', 1189)\n",
      "7 ('number', 1152)\n",
      "8 ('name', 1150)\n",
      "9 ('stop', 1018)\n",
      "10 ('unsubscribe', 973)\n",
      "11 ('verify', 955)\n",
      "12 ('information', 926)\n",
      "13 ('request', 900)\n",
      "14 ('address', 856)\n",
      "15 ('lafargeholcim', 829)\n",
      "16 ('benefit', 829)\n",
      "17 ('com', 818)\n",
      "18 ('mail', 799)\n",
      "19 ('info', 796)\n",
      "20 ('www', 796)\n"
     ]
    },
    {
     "data": {
      "image/png": "[encoded data removed]",
      "text/plain": [
       "<Figure size 576x432 with 1 Axes>"
      ]
     },
     "metadata": {
      "needs_background": "light"
     },
     "output_type": "display_data"
    },
    {
     "name": "stdout",
     "output_type": "stream",
     "text": [
      "Wall time: 352 ms\n"
     ]
    }
   ],
   "source": [
    "%time mostrar_frecuencias(datos)"
   ]
  },
  {
   "cell_type": "code",
   "execution_count": 14,
   "metadata": {},
   "outputs": [],
   "source": [
    "stemmer=nltk.stem.SnowballStemmer(\"english\")"
   ]
  },
  {
   "cell_type": "code",
   "execution_count": 15,
   "metadata": {},
   "outputs": [
    {
     "name": "stdout",
     "output_type": "stream",
     "text": [
      "Wall time: 1.3 s\n"
     ]
    }
   ],
   "source": [
    "%time datos['tokens']=datos['tokens'].apply(lambda tokens: [stemmer.stem(w) for w in tokens])"
   ]
  },
  {
   "cell_type": "code",
   "execution_count": 16,
   "metadata": {},
   "outputs": [
    {
     "name": "stdout",
     "output_type": "stream",
     "text": [
      "Numero de tokens: 5933\n",
      "1 ('email', 4271)\n",
      "2 ('pleas', 2069)\n",
      "3 ('receiv', 1839)\n",
      "4 ('send', 1275)\n",
      "5 ('phone', 1195)\n",
      "6 ('group', 1189)\n",
      "7 ('number', 1152)\n",
      "8 ('name', 1150)\n",
      "9 ('stop', 1018)\n",
      "10 ('unsubscrib', 973)\n",
      "11 ('verifi', 961)\n",
      "12 ('inform', 960)\n",
      "13 ('request', 900)\n",
      "14 ('thank', 875)\n",
      "15 ('address', 856)\n",
      "16 ('lafargeholcim', 829)\n",
      "17 ('benefit', 829)\n",
      "18 ('com', 818)\n",
      "19 ('mail', 800)\n",
      "20 ('info', 796)\n"
     ]
    },
    {
     "data": {
      "image/png": "[encoded data removed]",
      "text/plain": [
       "<Figure size 576x432 with 1 Axes>"
      ]
     },
     "metadata": {
      "needs_background": "light"
     },
     "output_type": "display_data"
    },
    {
     "name": "stdout",
     "output_type": "stream",
     "text": [
      "Wall time: 346 ms\n"
     ]
    }
   ],
   "source": [
    "%time mostrar_frecuencias(datos)"
   ]
  },
  {
   "cell_type": "code",
   "execution_count": 17,
   "metadata": {},
   "outputs": [],
   "source": [
    "datos.to_csv('data_tokens.csv',index=False)"
   ]
  },
  {
   "cell_type": "code",
   "execution_count": null,
   "metadata": {},
   "outputs": [],
   "source": []
  }
 ],
 "metadata": {
  "kernelspec": {
   "display_name": "Python 3",
   "language": "python",
   "name": "python3"
  },
  "language_info": {
   "codemirror_mode": {
    "name": "ipython",
    "version": 3
   },
   "file_extension": ".py",
   "mimetype": "text/x-python",
   "name": "python",
   "nbconvert_exporter": "python",
   "pygments_lexer": "ipython3",
   "version": "3.8.5"
  }
 },
 "nbformat": 4,
 "nbformat_minor": 4
}

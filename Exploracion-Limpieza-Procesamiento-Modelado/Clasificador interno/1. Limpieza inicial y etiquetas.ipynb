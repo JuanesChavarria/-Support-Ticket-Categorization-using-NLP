{
 "cells": [
  {
   "cell_type": "code",
   "execution_count": 1,
   "metadata": {},
   "outputs": [],
   "source": [
    "import pandas as pd\n",
    "import matplotlib.pyplot as plt\n",
    "from matplotlib.ticker import PercentFormatter"
   ]
  },
  {
   "cell_type": "markdown",
   "metadata": {},
   "source": [
    "https://towardsdatascience.com/text-classification-in-python-dd95d264c802"
   ]
  },
  {
   "cell_type": "code",
   "execution_count": 2,
   "metadata": {},
   "outputs": [
    {
     "name": "stdout",
     "output_type": "stream",
     "text": [
      "Wall time: 4.98 s\n"
     ]
    }
   ],
   "source": [
    "%time datos = pd.read_excel('../Tickets_final.xlsx')"
   ]
  },
  {
   "cell_type": "code",
   "execution_count": 3,
   "metadata": {},
   "outputs": [],
   "source": [
    "# %time datos = pd.read_excel('Tickets 2018-2021.xlsx')"
   ]
  },
  {
   "cell_type": "code",
   "execution_count": 4,
   "metadata": {},
   "outputs": [
    {
     "data": {
      "text/plain": [
       "(46218, 8)"
      ]
     },
     "execution_count": 4,
     "metadata": {},
     "output_type": "execute_result"
    }
   ],
   "source": [
    "datos.shape"
   ]
  },
  {
   "cell_type": "code",
   "execution_count": 5,
   "metadata": {},
   "outputs": [
    {
     "data": {
      "text/plain": [
       "Assignment Group        0\n",
       "Business duration       0\n",
       "Created                 0\n",
       "Closed                222\n",
       "Company                 5\n",
       "Category 1            424\n",
       "Category 2            424\n",
       "Clean                2821\n",
       "dtype: int64"
      ]
     },
     "execution_count": 5,
     "metadata": {},
     "output_type": "execute_result"
    }
   ],
   "source": [
    "datos.isnull().sum()"
   ]
  },
  {
   "cell_type": "code",
   "execution_count": 6,
   "metadata": {},
   "outputs": [],
   "source": [
    "datos['Created']=pd.to_datetime(datos['Created'])"
   ]
  },
  {
   "cell_type": "code",
   "execution_count": 7,
   "metadata": {},
   "outputs": [],
   "source": [
    "datos.query(\"Created>'2020-12-16'\",inplace=True)"
   ]
  },
  {
   "cell_type": "code",
   "execution_count": 8,
   "metadata": {},
   "outputs": [
    {
     "data": {
      "text/plain": [
       "(43918, 8)"
      ]
     },
     "execution_count": 8,
     "metadata": {},
     "output_type": "execute_result"
    }
   ],
   "source": [
    "datos.shape"
   ]
  },
  {
   "cell_type": "code",
   "execution_count": 9,
   "metadata": {},
   "outputs": [],
   "source": [
    "# datos=datos.append(pd.read_excel('Tickets-Julio-Nov-2021 Clean.xlsx')).reset_index(drop=True)"
   ]
  },
  {
   "cell_type": "code",
   "execution_count": 10,
   "metadata": {},
   "outputs": [],
   "source": [
    "# datos.shape"
   ]
  },
  {
   "cell_type": "code",
   "execution_count": 11,
   "metadata": {},
   "outputs": [],
   "source": [
    "datos.drop(columns=[\n",
    "                    # 'Number',\n",
    "                    # 'City',\n",
    "                    # 'State',\n",
    "                    # 'State / Province',\n",
    "                    # 'Country',\n",
    "                    'Business duration',\n",
    "                    'Created',\n",
    "                    'Closed',\n",
    "                    # 'Opened by',\n",
    "                    'Category 2',\n",
    "                    # 'Country Name',\n",
    "                    # 'Cost Center Name',\n",
    "                    'Assignment Group'\n",
    "                   ],inplace=True)"
   ]
  },
  {
   "cell_type": "code",
   "execution_count": 12,
   "metadata": {},
   "outputs": [
    {
     "data": {
      "text/plain": [
       "(40691, 3)"
      ]
     },
     "execution_count": 12,
     "metadata": {},
     "output_type": "execute_result"
    }
   ],
   "source": [
    "datos.dropna(subset=['Clean','Category 1'],inplace=True)\n",
    "datos.shape"
   ]
  },
  {
   "cell_type": "code",
   "execution_count": 13,
   "metadata": {},
   "outputs": [
    {
     "data": {
      "text/plain": [
       "Company       1\n",
       "Category 1    0\n",
       "Clean         0\n",
       "dtype: int64"
      ]
     },
     "execution_count": 13,
     "metadata": {},
     "output_type": "execute_result"
    }
   ],
   "source": [
    "datos.isnull().sum()"
   ]
  },
  {
   "cell_type": "code",
   "execution_count": 14,
   "metadata": {},
   "outputs": [
    {
     "data": {
      "text/plain": [
       "(39890, 3)"
      ]
     },
     "execution_count": 14,
     "metadata": {},
     "output_type": "execute_result"
    }
   ],
   "source": [
    "datos.drop(index=datos.query(\"`Category 1`=='Workday NA'\").index,inplace=True)\n",
    "datos.shape"
   ]
  },
  {
   "cell_type": "code",
   "execution_count": 15,
   "metadata": {},
   "outputs": [
    {
     "data": {
      "text/plain": [
       "xLafarge US               19350\n",
       "xLafarge Canada - ECAN    12372\n",
       "xLafarge Canada - WCAN     4217\n",
       "HOLCREST                   2058\n",
       "xLafarge NA                1892\n",
       "Name: Company, dtype: int64"
      ]
     },
     "execution_count": 15,
     "metadata": {},
     "output_type": "execute_result"
    }
   ],
   "source": [
    "datos.Company.value_counts()"
   ]
  },
  {
   "cell_type": "code",
   "execution_count": 16,
   "metadata": {},
   "outputs": [
    {
     "data": {
      "text/plain": [
       "(19350, 3)"
      ]
     },
     "execution_count": 16,
     "metadata": {},
     "output_type": "execute_result"
    }
   ],
   "source": [
    "datos.query(\"Company=='xLafarge US'\",inplace=True)\n",
    "datos.shape"
   ]
  },
  {
   "cell_type": "code",
   "execution_count": 17,
   "metadata": {},
   "outputs": [
    {
     "data": {
      "text/plain": [
       "Admin                      6515\n",
       "Mylife                     4459\n",
       "Master Data Input          3611\n",
       "Payroll                    1898\n",
       "Bswift                     1075\n",
       "OM (organizationa mgmt)     514\n",
       "Leaves                      305\n",
       "Year-End                    197\n",
       "Time                        185\n",
       "Systems NA                  180\n",
       "HR Request                  147\n",
       "Interface Input             116\n",
       "External Request             71\n",
       "Employee Request             27\n",
       "Certified Payroll            26\n",
       "Sun Life Request             11\n",
       "Audit                         9\n",
       "Reprint Request               2\n",
       "Pay Admin Request             2\n",
       "Name: Category 1, dtype: int64"
      ]
     },
     "execution_count": 17,
     "metadata": {},
     "output_type": "execute_result"
    }
   ],
   "source": [
    "datos['Category 1'].value_counts()"
   ]
  },
  {
   "cell_type": "code",
   "execution_count": 18,
   "metadata": {},
   "outputs": [
    {
     "data": {
      "text/plain": [
       "(19339, 3)"
      ]
     },
     "execution_count": 18,
     "metadata": {},
     "output_type": "execute_result"
    }
   ],
   "source": [
    "datos.drop(index=datos.query(\"`Category 1`=='Sun Life Request'\").index,inplace=True)\n",
    "datos.shape"
   ]
  },
  {
   "cell_type": "code",
   "execution_count": 19,
   "metadata": {},
   "outputs": [
    {
     "data": {
      "text/html": [
       "<div>\n",
       "<style scoped>\n",
       "    .dataframe tbody tr th:only-of-type {\n",
       "        vertical-align: middle;\n",
       "    }\n",
       "\n",
       "    .dataframe tbody tr th {\n",
       "        vertical-align: top;\n",
       "    }\n",
       "\n",
       "    .dataframe thead th {\n",
       "        text-align: right;\n",
       "    }\n",
       "</style>\n",
       "<table border=\"1\" class=\"dataframe\">\n",
       "  <thead>\n",
       "    <tr style=\"text-align: right;\">\n",
       "      <th></th>\n",
       "      <th>Company</th>\n",
       "      <th>Category 1</th>\n",
       "      <th>Clean</th>\n",
       "    </tr>\n",
       "  </thead>\n",
       "  <tbody>\n",
       "    <tr>\n",
       "      <th>1</th>\n",
       "      <td>xLafarge US</td>\n",
       "      <td>Mylife</td>\n",
       "      <td>arval death notifitication of death ssn spouse...</td>\n",
       "    </tr>\n",
       "    <tr>\n",
       "      <th>3</th>\n",
       "      <td>xLafarge US</td>\n",
       "      <td>Mylife</td>\n",
       "      <td>cd d jr retiree death notification no benefits...</td>\n",
       "    </tr>\n",
       "    <tr>\n",
       "      <th>7</th>\n",
       "      <td>xLafarge US</td>\n",
       "      <td>Admin</td>\n",
       "      <td>corporate efax message from s have received a ...</td>\n",
       "    </tr>\n",
       "    <tr>\n",
       "      <th>21</th>\n",
       "      <td>xLafarge US</td>\n",
       "      <td>Admin</td>\n",
       "      <td>corporate efax message from spandsp fax ident ...</td>\n",
       "    </tr>\n",
       "    <tr>\n",
       "      <th>22</th>\n",
       "      <td>xLafarge US</td>\n",
       "      <td>Admin</td>\n",
       "      <td>corporate efax message from spandsp fax ident ...</td>\n",
       "    </tr>\n",
       "    <tr>\n",
       "      <th>...</th>\n",
       "      <td>...</td>\n",
       "      <td>...</td>\n",
       "      <td>...</td>\n",
       "    </tr>\n",
       "    <tr>\n",
       "      <th>46202</th>\n",
       "      <td>xLafarge US</td>\n",
       "      <td>OM (organizationa mgmt)</td>\n",
       "      <td>is currently listed under project manager he n...</td>\n",
       "    </tr>\n",
       "    <tr>\n",
       "      <th>46208</th>\n",
       "      <td>xLafarge US</td>\n",
       "      <td>OM (organizationa mgmt)</td>\n",
       "      <td>please change position name of position to ele...</td>\n",
       "    </tr>\n",
       "    <tr>\n",
       "      <th>46212</th>\n",
       "      <td>xLafarge US</td>\n",
       "      <td>OM (organizationa mgmt)</td>\n",
       "      <td>update position to reflect floating manager po...</td>\n",
       "    </tr>\n",
       "    <tr>\n",
       "      <th>46213</th>\n",
       "      <td>xLafarge US</td>\n",
       "      <td>OM (organizationa mgmt)</td>\n",
       "      <td>update subgroup to</td>\n",
       "    </tr>\n",
       "    <tr>\n",
       "      <th>46214</th>\n",
       "      <td>xLafarge US</td>\n",
       "      <td>OM (organizationa mgmt)</td>\n",
       "      <td>please update s position to reflect employee s...</td>\n",
       "    </tr>\n",
       "  </tbody>\n",
       "</table>\n",
       "<p>19339 rows × 3 columns</p>\n",
       "</div>"
      ],
      "text/plain": [
       "           Company               Category 1  \\\n",
       "1      xLafarge US                   Mylife   \n",
       "3      xLafarge US                   Mylife   \n",
       "7      xLafarge US                    Admin   \n",
       "21     xLafarge US                    Admin   \n",
       "22     xLafarge US                    Admin   \n",
       "...            ...                      ...   \n",
       "46202  xLafarge US  OM (organizationa mgmt)   \n",
       "46208  xLafarge US  OM (organizationa mgmt)   \n",
       "46212  xLafarge US  OM (organizationa mgmt)   \n",
       "46213  xLafarge US  OM (organizationa mgmt)   \n",
       "46214  xLafarge US  OM (organizationa mgmt)   \n",
       "\n",
       "                                                   Clean  \n",
       "1      arval death notifitication of death ssn spouse...  \n",
       "3      cd d jr retiree death notification no benefits...  \n",
       "7      corporate efax message from s have received a ...  \n",
       "21     corporate efax message from spandsp fax ident ...  \n",
       "22     corporate efax message from spandsp fax ident ...  \n",
       "...                                                  ...  \n",
       "46202  is currently listed under project manager he n...  \n",
       "46208  please change position name of position to ele...  \n",
       "46212  update position to reflect floating manager po...  \n",
       "46213                                 update subgroup to  \n",
       "46214  please update s position to reflect employee s...  \n",
       "\n",
       "[19339 rows x 3 columns]"
      ]
     },
     "execution_count": 19,
     "metadata": {},
     "output_type": "execute_result"
    }
   ],
   "source": [
    "datos"
   ]
  },
  {
   "cell_type": "code",
   "execution_count": 20,
   "metadata": {},
   "outputs": [],
   "source": [
    "datos.drop(columns=['Company'],inplace=True)"
   ]
  },
  {
   "cell_type": "code",
   "execution_count": 23,
   "metadata": {},
   "outputs": [
    {
     "data": {
      "text/html": [
       "<div>\n",
       "<style scoped>\n",
       "    .dataframe tbody tr th:only-of-type {\n",
       "        vertical-align: middle;\n",
       "    }\n",
       "\n",
       "    .dataframe tbody tr th {\n",
       "        vertical-align: top;\n",
       "    }\n",
       "\n",
       "    .dataframe thead th {\n",
       "        text-align: right;\n",
       "    }\n",
       "</style>\n",
       "<table border=\"1\" class=\"dataframe\">\n",
       "  <thead>\n",
       "    <tr style=\"text-align: right;\">\n",
       "      <th></th>\n",
       "      <th>conteo</th>\n",
       "      <th>porcentaje</th>\n",
       "      <th>acumulado</th>\n",
       "    </tr>\n",
       "  </thead>\n",
       "  <tbody>\n",
       "    <tr>\n",
       "      <th>Admin</th>\n",
       "      <td>6515</td>\n",
       "      <td>33.688402</td>\n",
       "      <td>33.688402</td>\n",
       "    </tr>\n",
       "    <tr>\n",
       "      <th>Mylife</th>\n",
       "      <td>4459</td>\n",
       "      <td>23.057035</td>\n",
       "      <td>56.745437</td>\n",
       "    </tr>\n",
       "    <tr>\n",
       "      <th>Master Data Input</th>\n",
       "      <td>3611</td>\n",
       "      <td>18.672113</td>\n",
       "      <td>75.417550</td>\n",
       "    </tr>\n",
       "    <tr>\n",
       "      <th>Payroll</th>\n",
       "      <td>1898</td>\n",
       "      <td>9.814365</td>\n",
       "      <td>85.231915</td>\n",
       "    </tr>\n",
       "    <tr>\n",
       "      <th>Bswift</th>\n",
       "      <td>1075</td>\n",
       "      <td>5.558716</td>\n",
       "      <td>90.790630</td>\n",
       "    </tr>\n",
       "    <tr>\n",
       "      <th>OM (organizationa mgmt)</th>\n",
       "      <td>514</td>\n",
       "      <td>2.657842</td>\n",
       "      <td>93.448472</td>\n",
       "    </tr>\n",
       "    <tr>\n",
       "      <th>Leaves</th>\n",
       "      <td>305</td>\n",
       "      <td>1.577124</td>\n",
       "      <td>95.025596</td>\n",
       "    </tr>\n",
       "    <tr>\n",
       "      <th>Year-End</th>\n",
       "      <td>197</td>\n",
       "      <td>1.018667</td>\n",
       "      <td>96.044263</td>\n",
       "    </tr>\n",
       "    <tr>\n",
       "      <th>Time</th>\n",
       "      <td>185</td>\n",
       "      <td>0.956616</td>\n",
       "      <td>97.000879</td>\n",
       "    </tr>\n",
       "    <tr>\n",
       "      <th>Systems NA</th>\n",
       "      <td>180</td>\n",
       "      <td>0.930762</td>\n",
       "      <td>97.931641</td>\n",
       "    </tr>\n",
       "    <tr>\n",
       "      <th>HR Request</th>\n",
       "      <td>147</td>\n",
       "      <td>0.760122</td>\n",
       "      <td>98.691763</td>\n",
       "    </tr>\n",
       "    <tr>\n",
       "      <th>Interface Input</th>\n",
       "      <td>116</td>\n",
       "      <td>0.599824</td>\n",
       "      <td>99.291587</td>\n",
       "    </tr>\n",
       "    <tr>\n",
       "      <th>External Request</th>\n",
       "      <td>71</td>\n",
       "      <td>0.367134</td>\n",
       "      <td>99.658721</td>\n",
       "    </tr>\n",
       "    <tr>\n",
       "      <th>Employee Request</th>\n",
       "      <td>27</td>\n",
       "      <td>0.139614</td>\n",
       "      <td>99.798335</td>\n",
       "    </tr>\n",
       "    <tr>\n",
       "      <th>Certified Payroll</th>\n",
       "      <td>26</td>\n",
       "      <td>0.134443</td>\n",
       "      <td>99.932778</td>\n",
       "    </tr>\n",
       "    <tr>\n",
       "      <th>Audit</th>\n",
       "      <td>9</td>\n",
       "      <td>0.046538</td>\n",
       "      <td>99.979316</td>\n",
       "    </tr>\n",
       "    <tr>\n",
       "      <th>Reprint Request</th>\n",
       "      <td>2</td>\n",
       "      <td>0.010342</td>\n",
       "      <td>99.989658</td>\n",
       "    </tr>\n",
       "    <tr>\n",
       "      <th>Pay Admin Request</th>\n",
       "      <td>2</td>\n",
       "      <td>0.010342</td>\n",
       "      <td>100.000000</td>\n",
       "    </tr>\n",
       "  </tbody>\n",
       "</table>\n",
       "</div>"
      ],
      "text/plain": [
       "                         conteo  porcentaje   acumulado\n",
       "Admin                      6515   33.688402   33.688402\n",
       "Mylife                     4459   23.057035   56.745437\n",
       "Master Data Input          3611   18.672113   75.417550\n",
       "Payroll                    1898    9.814365   85.231915\n",
       "Bswift                     1075    5.558716   90.790630\n",
       "OM (organizationa mgmt)     514    2.657842   93.448472\n",
       "Leaves                      305    1.577124   95.025596\n",
       "Year-End                    197    1.018667   96.044263\n",
       "Time                        185    0.956616   97.000879\n",
       "Systems NA                  180    0.930762   97.931641\n",
       "HR Request                  147    0.760122   98.691763\n",
       "Interface Input             116    0.599824   99.291587\n",
       "External Request             71    0.367134   99.658721\n",
       "Employee Request             27    0.139614   99.798335\n",
       "Certified Payroll            26    0.134443   99.932778\n",
       "Audit                         9    0.046538   99.979316\n",
       "Reprint Request               2    0.010342   99.989658\n",
       "Pay Admin Request             2    0.010342  100.000000"
      ]
     },
     "execution_count": 23,
     "metadata": {},
     "output_type": "execute_result"
    }
   ],
   "source": [
    "conteo_categorias=datos['Category 1'].value_counts()\n",
    "tabla_categorias=pd.DataFrame()\n",
    "tabla_categorias['conteo']=conteo_categorias\n",
    "tabla_categorias['porcentaje']=(conteo_categorias/datos.shape[0]*100)\n",
    "tabla_categorias['acumulado']=tabla_categorias['porcentaje'].cumsum()\n",
    "tabla_categorias"
   ]
  },
  {
   "cell_type": "code",
   "execution_count": 29,
   "metadata": {},
   "outputs": [],
   "source": [
    "categorias=tabla_categorias.query(\"acumulado>86\").index\n",
    "datos = pd.concat([grupo for name,grupo in datos.groupby(\"Category 1\") if name in categorias])"
   ]
  },
  {
   "cell_type": "code",
   "execution_count": 36,
   "metadata": {},
   "outputs": [
    {
     "data": {
      "text/html": [
       "<div>\n",
       "<style scoped>\n",
       "    .dataframe tbody tr th:only-of-type {\n",
       "        vertical-align: middle;\n",
       "    }\n",
       "\n",
       "    .dataframe tbody tr th {\n",
       "        vertical-align: top;\n",
       "    }\n",
       "\n",
       "    .dataframe thead th {\n",
       "        text-align: right;\n",
       "    }\n",
       "</style>\n",
       "<table border=\"1\" class=\"dataframe\">\n",
       "  <thead>\n",
       "    <tr style=\"text-align: right;\">\n",
       "      <th></th>\n",
       "      <th>conteo</th>\n",
       "      <th>porcentaje</th>\n",
       "      <th>acumulado</th>\n",
       "    </tr>\n",
       "  </thead>\n",
       "  <tbody>\n",
       "    <tr>\n",
       "      <th>Bswift</th>\n",
       "      <td>1075</td>\n",
       "      <td>37.640056</td>\n",
       "      <td>37.640056</td>\n",
       "    </tr>\n",
       "    <tr>\n",
       "      <th>OM (organizationa mgmt)</th>\n",
       "      <td>514</td>\n",
       "      <td>17.997199</td>\n",
       "      <td>55.637255</td>\n",
       "    </tr>\n",
       "    <tr>\n",
       "      <th>Leaves</th>\n",
       "      <td>305</td>\n",
       "      <td>10.679272</td>\n",
       "      <td>66.316527</td>\n",
       "    </tr>\n",
       "    <tr>\n",
       "      <th>Year-End</th>\n",
       "      <td>197</td>\n",
       "      <td>6.897759</td>\n",
       "      <td>73.214286</td>\n",
       "    </tr>\n",
       "    <tr>\n",
       "      <th>Time</th>\n",
       "      <td>185</td>\n",
       "      <td>6.477591</td>\n",
       "      <td>79.691877</td>\n",
       "    </tr>\n",
       "    <tr>\n",
       "      <th>Systems NA</th>\n",
       "      <td>180</td>\n",
       "      <td>6.302521</td>\n",
       "      <td>85.994398</td>\n",
       "    </tr>\n",
       "    <tr>\n",
       "      <th>HR Request</th>\n",
       "      <td>147</td>\n",
       "      <td>5.147059</td>\n",
       "      <td>91.141457</td>\n",
       "    </tr>\n",
       "    <tr>\n",
       "      <th>Interface Input</th>\n",
       "      <td>116</td>\n",
       "      <td>4.061625</td>\n",
       "      <td>95.203081</td>\n",
       "    </tr>\n",
       "    <tr>\n",
       "      <th>External Request</th>\n",
       "      <td>71</td>\n",
       "      <td>2.485994</td>\n",
       "      <td>97.689076</td>\n",
       "    </tr>\n",
       "    <tr>\n",
       "      <th>Employee Request</th>\n",
       "      <td>27</td>\n",
       "      <td>0.945378</td>\n",
       "      <td>98.634454</td>\n",
       "    </tr>\n",
       "    <tr>\n",
       "      <th>Certified Payroll</th>\n",
       "      <td>26</td>\n",
       "      <td>0.910364</td>\n",
       "      <td>99.544818</td>\n",
       "    </tr>\n",
       "    <tr>\n",
       "      <th>Audit</th>\n",
       "      <td>9</td>\n",
       "      <td>0.315126</td>\n",
       "      <td>99.859944</td>\n",
       "    </tr>\n",
       "    <tr>\n",
       "      <th>Reprint Request</th>\n",
       "      <td>2</td>\n",
       "      <td>0.070028</td>\n",
       "      <td>99.929972</td>\n",
       "    </tr>\n",
       "    <tr>\n",
       "      <th>Pay Admin Request</th>\n",
       "      <td>2</td>\n",
       "      <td>0.070028</td>\n",
       "      <td>100.000000</td>\n",
       "    </tr>\n",
       "  </tbody>\n",
       "</table>\n",
       "</div>"
      ],
      "text/plain": [
       "                         conteo  porcentaje   acumulado\n",
       "Bswift                     1075   37.640056   37.640056\n",
       "OM (organizationa mgmt)     514   17.997199   55.637255\n",
       "Leaves                      305   10.679272   66.316527\n",
       "Year-End                    197    6.897759   73.214286\n",
       "Time                        185    6.477591   79.691877\n",
       "Systems NA                  180    6.302521   85.994398\n",
       "HR Request                  147    5.147059   91.141457\n",
       "Interface Input             116    4.061625   95.203081\n",
       "External Request             71    2.485994   97.689076\n",
       "Employee Request             27    0.945378   98.634454\n",
       "Certified Payroll            26    0.910364   99.544818\n",
       "Audit                         9    0.315126   99.859944\n",
       "Reprint Request               2    0.070028   99.929972\n",
       "Pay Admin Request             2    0.070028  100.000000"
      ]
     },
     "execution_count": 36,
     "metadata": {},
     "output_type": "execute_result"
    }
   ],
   "source": [
    "conteo_categorias=datos['Category 1'].value_counts()\n",
    "tabla_categorias=pd.DataFrame()\n",
    "tabla_categorias['conteo']=conteo_categorias\n",
    "tabla_categorias['porcentaje']=(conteo_categorias/datos.shape[0]*100)\n",
    "tabla_categorias['acumulado']=tabla_categorias['porcentaje'].cumsum()\n",
    "tabla_categorias"
   ]
  },
  {
   "cell_type": "code",
   "execution_count": 37,
   "metadata": {},
   "outputs": [
    {
     "data": {
      "image/png": "[encoded data removed]",
      "text/plain": [
       "<Figure size 1152x720 with 2 Axes>"
      ]
     },
     "metadata": {
      "needs_background": "light"
     },
     "output_type": "display_data"
    }
   ],
   "source": [
    "fig, ax = plt.subplots(figsize=(16,10))\n",
    "ax.bar(tabla_categorias.index, tabla_categorias[\"conteo\"], color=\"C0\")\n",
    "ax.grid(axis='x')\n",
    "ax2 = ax.twinx()\n",
    "ax2.plot(tabla_categorias.index, tabla_categorias[\"acumulado\"], color=\"C1\", marker=\"D\", ms=7)\n",
    "ax2.yaxis.set_major_formatter(PercentFormatter())\n",
    "ax2.grid()\n",
    "ax.tick_params(axis=\"y\")\n",
    "ax2.tick_params(axis=\"y\")\n",
    "ax.tick_params(axis=\"x\",labelrotation=90)\n",
    "ax2.tick_params(axis=\"x\",labelrotation=90)\n",
    "plt.show()"
   ]
  },
  {
   "cell_type": "code",
   "execution_count": 38,
   "metadata": {},
   "outputs": [
    {
     "data": {
      "text/plain": [
       "{'Bswift': 1,\n",
       " 'OM (organizationa mgmt)': 2,\n",
       " 'Leaves': 3,\n",
       " 'Year-End': 4,\n",
       " 'Time': 5,\n",
       " 'Systems NA': 6}"
      ]
     },
     "execution_count": 38,
     "metadata": {},
     "output_type": "execute_result"
    }
   ],
   "source": [
    "llaves=tabla_categorias.query(\"acumulado<86\").index\n",
    "etiquetas={llave:valor for llave,valor in zip(llaves,[i for i in range(1,llaves.shape[0]+1)])}\n",
    "etiquetas"
   ]
  },
  {
   "cell_type": "code",
   "execution_count": 39,
   "metadata": {},
   "outputs": [],
   "source": [
    "datos['etiquetas']=datos['Category 1'].apply(lambda categoria: etiquetas[categoria] if categoria in etiquetas else 0)"
   ]
  },
  {
   "cell_type": "code",
   "execution_count": 40,
   "metadata": {},
   "outputs": [],
   "source": [
    "datos.rename(columns={'Category 1':'categorias','Clean':'ticket'}).to_csv('data_clean.csv',index=False)"
   ]
  },
  {
   "cell_type": "code",
   "execution_count": null,
   "metadata": {},
   "outputs": [],
   "source": []
  }
 ],
 "metadata": {
  "kernelspec": {
   "display_name": "Python 3",
   "language": "python",
   "name": "python3"
  },
  "language_info": {
   "codemirror_mode": {
    "name": "ipython",
    "version": 3
   },
   "file_extension": ".py",
   "mimetype": "text/x-python",
   "name": "python",
   "nbconvert_exporter": "python",
   "pygments_lexer": "ipython3",
   "version": "3.8.5"
  }
 },
 "nbformat": 4,
 "nbformat_minor": 4
}

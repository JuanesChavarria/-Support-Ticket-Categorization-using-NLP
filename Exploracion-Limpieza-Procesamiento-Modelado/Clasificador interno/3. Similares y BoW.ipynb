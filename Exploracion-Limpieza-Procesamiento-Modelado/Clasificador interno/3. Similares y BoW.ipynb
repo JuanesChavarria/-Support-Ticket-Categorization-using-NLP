{
 "cells": [
  {
   "cell_type": "code",
   "execution_count": 1,
   "metadata": {},
   "outputs": [],
   "source": [
    "import nltk\n",
    "import numpy as np\n",
    "import pandas as pd\n",
    "import matplotlib.pyplot as plt\n",
    "from ast import literal_eval\n",
    "from sklearn.metrics.pairwise import cosine_similarity,linear_kernel\n",
    "from sklearn.feature_extraction.text import TfidfVectorizer"
   ]
  },
  {
   "cell_type": "code",
   "execution_count": 2,
   "metadata": {},
   "outputs": [
    {
     "name": "stdout",
     "output_type": "stream",
     "text": [
      "Wall time: 15 ms\n"
     ]
    }
   ],
   "source": [
    "%time datos = pd.read_csv('data_tokens.csv')"
   ]
  },
  {
   "cell_type": "code",
   "execution_count": 3,
   "metadata": {},
   "outputs": [
    {
     "name": "stdout",
     "output_type": "stream",
     "text": [
      "Wall time: 222 ms\n"
     ]
    }
   ],
   "source": [
    "%time datos.tokens=datos.tokens.apply(literal_eval)"
   ]
  },
  {
   "cell_type": "code",
   "execution_count": 4,
   "metadata": {},
   "outputs": [
    {
     "data": {
      "text/plain": [
       "(2856, 3)"
      ]
     },
     "execution_count": 4,
     "metadata": {},
     "output_type": "execute_result"
    }
   ],
   "source": [
    "datos.shape"
   ]
  },
  {
   "cell_type": "code",
   "execution_count": 5,
   "metadata": {},
   "outputs": [
    {
     "data": {
      "text/html": [
       "<div>\n",
       "<style scoped>\n",
       "    .dataframe tbody tr th:only-of-type {\n",
       "        vertical-align: middle;\n",
       "    }\n",
       "\n",
       "    .dataframe tbody tr th {\n",
       "        vertical-align: top;\n",
       "    }\n",
       "\n",
       "    .dataframe thead th {\n",
       "        text-align: right;\n",
       "    }\n",
       "</style>\n",
       "<table border=\"1\" class=\"dataframe\">\n",
       "  <thead>\n",
       "    <tr style=\"text-align: right;\">\n",
       "      <th></th>\n",
       "      <th>conteo</th>\n",
       "      <th>porcentaje</th>\n",
       "      <th>acumulado</th>\n",
       "    </tr>\n",
       "  </thead>\n",
       "  <tbody>\n",
       "    <tr>\n",
       "      <th>Bswift</th>\n",
       "      <td>1075</td>\n",
       "      <td>37.640056</td>\n",
       "      <td>37.640056</td>\n",
       "    </tr>\n",
       "    <tr>\n",
       "      <th>OM (organizationa mgmt)</th>\n",
       "      <td>514</td>\n",
       "      <td>17.997199</td>\n",
       "      <td>55.637255</td>\n",
       "    </tr>\n",
       "    <tr>\n",
       "      <th>Leaves</th>\n",
       "      <td>305</td>\n",
       "      <td>10.679272</td>\n",
       "      <td>66.316527</td>\n",
       "    </tr>\n",
       "    <tr>\n",
       "      <th>Year-End</th>\n",
       "      <td>197</td>\n",
       "      <td>6.897759</td>\n",
       "      <td>73.214286</td>\n",
       "    </tr>\n",
       "    <tr>\n",
       "      <th>Time</th>\n",
       "      <td>185</td>\n",
       "      <td>6.477591</td>\n",
       "      <td>79.691877</td>\n",
       "    </tr>\n",
       "    <tr>\n",
       "      <th>Systems NA</th>\n",
       "      <td>180</td>\n",
       "      <td>6.302521</td>\n",
       "      <td>85.994398</td>\n",
       "    </tr>\n",
       "    <tr>\n",
       "      <th>HR Request</th>\n",
       "      <td>147</td>\n",
       "      <td>5.147059</td>\n",
       "      <td>91.141457</td>\n",
       "    </tr>\n",
       "    <tr>\n",
       "      <th>Interface Input</th>\n",
       "      <td>116</td>\n",
       "      <td>4.061625</td>\n",
       "      <td>95.203081</td>\n",
       "    </tr>\n",
       "    <tr>\n",
       "      <th>External Request</th>\n",
       "      <td>71</td>\n",
       "      <td>2.485994</td>\n",
       "      <td>97.689076</td>\n",
       "    </tr>\n",
       "    <tr>\n",
       "      <th>Employee Request</th>\n",
       "      <td>27</td>\n",
       "      <td>0.945378</td>\n",
       "      <td>98.634454</td>\n",
       "    </tr>\n",
       "    <tr>\n",
       "      <th>Certified Payroll</th>\n",
       "      <td>26</td>\n",
       "      <td>0.910364</td>\n",
       "      <td>99.544818</td>\n",
       "    </tr>\n",
       "    <tr>\n",
       "      <th>Audit</th>\n",
       "      <td>9</td>\n",
       "      <td>0.315126</td>\n",
       "      <td>99.859944</td>\n",
       "    </tr>\n",
       "    <tr>\n",
       "      <th>Pay Admin Request</th>\n",
       "      <td>2</td>\n",
       "      <td>0.070028</td>\n",
       "      <td>99.929972</td>\n",
       "    </tr>\n",
       "    <tr>\n",
       "      <th>Reprint Request</th>\n",
       "      <td>2</td>\n",
       "      <td>0.070028</td>\n",
       "      <td>100.000000</td>\n",
       "    </tr>\n",
       "  </tbody>\n",
       "</table>\n",
       "</div>"
      ],
      "text/plain": [
       "                         conteo  porcentaje   acumulado\n",
       "Bswift                     1075   37.640056   37.640056\n",
       "OM (organizationa mgmt)     514   17.997199   55.637255\n",
       "Leaves                      305   10.679272   66.316527\n",
       "Year-End                    197    6.897759   73.214286\n",
       "Time                        185    6.477591   79.691877\n",
       "Systems NA                  180    6.302521   85.994398\n",
       "HR Request                  147    5.147059   91.141457\n",
       "Interface Input             116    4.061625   95.203081\n",
       "External Request             71    2.485994   97.689076\n",
       "Employee Request             27    0.945378   98.634454\n",
       "Certified Payroll            26    0.910364   99.544818\n",
       "Audit                         9    0.315126   99.859944\n",
       "Pay Admin Request             2    0.070028   99.929972\n",
       "Reprint Request               2    0.070028  100.000000"
      ]
     },
     "execution_count": 5,
     "metadata": {},
     "output_type": "execute_result"
    }
   ],
   "source": [
    "conteo_categorias=datos['categorias'].value_counts()\n",
    "tabla_categorias=pd.DataFrame()\n",
    "tabla_categorias['conteo']=conteo_categorias\n",
    "tabla_categorias['porcentaje']=(conteo_categorias/datos.shape[0]*100)\n",
    "tabla_categorias['acumulado']=tabla_categorias['porcentaje'].cumsum()\n",
    "tabla_categorias"
   ]
  },
  {
   "cell_type": "code",
   "execution_count": 6,
   "metadata": {},
   "outputs": [
    {
     "data": {
      "text/plain": [
       "Index(['Bswift', 'OM (organizationa mgmt)', 'Leaves'], dtype='object')"
      ]
     },
     "execution_count": 6,
     "metadata": {},
     "output_type": "execute_result"
    }
   ],
   "source": [
    "busqueda=tabla_categorias.query(\"acumulado<67\").index\n",
    "busqueda"
   ]
  },
  {
   "cell_type": "code",
   "execution_count": 7,
   "metadata": {},
   "outputs": [
    {
     "name": "stdout",
     "output_type": "stream",
     "text": [
      "Wall time: 139 ms\n",
      "Wall time: 1.99 ms\n",
      "Wall time: 2 ms\n"
     ]
    }
   ],
   "source": [
    "%time fdist = nltk.FreqDist(np.concatenate(datos.reset_index(drop=True)['tokens']))\n",
    "%time tokens=fdist.most_common(len(fdist))\n",
    "%time tokens_tf=pd.DataFrame(tokens,columns=['token','TF'])"
   ]
  },
  {
   "cell_type": "code",
   "execution_count": 8,
   "metadata": {},
   "outputs": [
    {
     "data": {
      "text/plain": [
       "(2543, 2)"
      ]
     },
     "execution_count": 8,
     "metadata": {},
     "output_type": "execute_result"
    }
   ],
   "source": [
    "tokens_tf.query(\"TF>1\",inplace=True)\n",
    "tokens_tf.shape"
   ]
  },
  {
   "cell_type": "code",
   "execution_count": 9,
   "metadata": {},
   "outputs": [
    {
     "data": {
      "text/plain": [
       "1    1075\n",
       "2     514\n",
       "0     400\n",
       "3     305\n",
       "4     197\n",
       "5     185\n",
       "6     180\n",
       "Name: etiquetas, dtype: int64"
      ]
     },
     "execution_count": 9,
     "metadata": {},
     "output_type": "execute_result"
    }
   ],
   "source": [
    "datos.etiquetas.value_counts()"
   ]
  },
  {
   "cell_type": "code",
   "execution_count": 10,
   "metadata": {},
   "outputs": [
    {
     "data": {
      "text/html": [
       "<div>\n",
       "<style scoped>\n",
       "    .dataframe tbody tr th:only-of-type {\n",
       "        vertical-align: middle;\n",
       "    }\n",
       "\n",
       "    .dataframe tbody tr th {\n",
       "        vertical-align: top;\n",
       "    }\n",
       "\n",
       "    .dataframe thead th {\n",
       "        text-align: right;\n",
       "    }\n",
       "</style>\n",
       "<table border=\"1\" class=\"dataframe\">\n",
       "  <thead>\n",
       "    <tr style=\"text-align: right;\">\n",
       "      <th></th>\n",
       "      <th>token</th>\n",
       "      <th>TF</th>\n",
       "    </tr>\n",
       "  </thead>\n",
       "  <tbody>\n",
       "    <tr>\n",
       "      <th>8</th>\n",
       "      <td>stop</td>\n",
       "      <td>1018</td>\n",
       "    </tr>\n",
       "    <tr>\n",
       "      <th>9</th>\n",
       "      <td>unsubscrib</td>\n",
       "      <td>973</td>\n",
       "    </tr>\n",
       "    <tr>\n",
       "      <th>10</th>\n",
       "      <td>verifi</td>\n",
       "      <td>961</td>\n",
       "    </tr>\n",
       "    <tr>\n",
       "      <th>11</th>\n",
       "      <td>inform</td>\n",
       "      <td>960</td>\n",
       "    </tr>\n",
       "    <tr>\n",
       "      <th>12</th>\n",
       "      <td>request</td>\n",
       "      <td>900</td>\n",
       "    </tr>\n",
       "    <tr>\n",
       "      <th>...</th>\n",
       "      <td>...</td>\n",
       "      <td>...</td>\n",
       "    </tr>\n",
       "    <tr>\n",
       "      <th>711</th>\n",
       "      <td>webmanag</td>\n",
       "      <td>18</td>\n",
       "    </tr>\n",
       "    <tr>\n",
       "      <th>712</th>\n",
       "      <td>theworknumb</td>\n",
       "      <td>18</td>\n",
       "    </tr>\n",
       "    <tr>\n",
       "      <th>713</th>\n",
       "      <td>ppay</td>\n",
       "      <td>18</td>\n",
       "    </tr>\n",
       "    <tr>\n",
       "      <th>714</th>\n",
       "      <td>tci</td>\n",
       "      <td>18</td>\n",
       "    </tr>\n",
       "    <tr>\n",
       "      <th>715</th>\n",
       "      <td>usf</td>\n",
       "      <td>18</td>\n",
       "    </tr>\n",
       "  </tbody>\n",
       "</table>\n",
       "<p>708 rows × 2 columns</p>\n",
       "</div>"
      ],
      "text/plain": [
       "           token    TF\n",
       "8           stop  1018\n",
       "9     unsubscrib   973\n",
       "10        verifi   961\n",
       "11        inform   960\n",
       "12       request   900\n",
       "..           ...   ...\n",
       "711     webmanag    18\n",
       "712  theworknumb    18\n",
       "713         ppay    18\n",
       "714          tci    18\n",
       "715          usf    18\n",
       "\n",
       "[708 rows x 2 columns]"
      ]
     },
     "execution_count": 10,
     "metadata": {},
     "output_type": "execute_result"
    }
   ],
   "source": [
    "query=\"TF<=1075 and TF>=18\"\n",
    "tokens_tf.query(query)"
   ]
  },
  {
   "cell_type": "code",
   "execution_count": 11,
   "metadata": {},
   "outputs": [
    {
     "data": {
      "text/plain": [
       "<AxesSubplot:ylabel='Frequency'>"
      ]
     },
     "execution_count": 11,
     "metadata": {},
     "output_type": "execute_result"
    },
    {
     "data": {
      "image/png": "[encoded data removed]",
      "text/plain": [
       "<Figure size 432x288 with 1 Axes>"
      ]
     },
     "metadata": {
      "needs_background": "light"
     },
     "output_type": "display_data"
    }
   ],
   "source": [
    "tokens_tf.query(query).TF.plot.hist()"
   ]
  },
  {
   "cell_type": "code",
   "execution_count": 12,
   "metadata": {},
   "outputs": [
    {
     "data": {
      "text/plain": [
       "(708,)"
      ]
     },
     "execution_count": 12,
     "metadata": {},
     "output_type": "execute_result"
    }
   ],
   "source": [
    "bow = tokens_tf.query(query).token.values\n",
    "bow.shape"
   ]
  },
  {
   "cell_type": "code",
   "execution_count": 17,
   "metadata": {},
   "outputs": [
    {
     "name": "stdout",
     "output_type": "stream",
     "text": [
      "Wall time: 94.7 ms\n"
     ]
    }
   ],
   "source": [
    "%time tfidf=pd.DataFrame(TfidfVectorizer(vocabulary=bow).fit_transform(datos['tokens'].str.join(\" \")).toarray(), columns=bow)"
   ]
  },
  {
   "cell_type": "code",
   "execution_count": 18,
   "metadata": {},
   "outputs": [],
   "source": [
    "def obtener_similares(distancias):\n",
    "    similares=set()\n",
    "    for i in range(distancias.shape[0]):\n",
    "        if i not in similares:\n",
    "            similares.update((distancias[i]==1).nonzero()[0][1:])\n",
    "    return list(similares)"
   ]
  },
  {
   "cell_type": "code",
   "execution_count": 19,
   "metadata": {},
   "outputs": [],
   "source": [
    "busqueda=tabla_categorias.query(\"acumulado<67\").index"
   ]
  },
  {
   "cell_type": "code",
   "execution_count": 20,
   "metadata": {},
   "outputs": [
    {
     "name": "stdout",
     "output_type": "stream",
     "text": [
      "Wall time: 110 ms\n"
     ]
    }
   ],
   "source": [
    "%time distancias_coseno=cosine_similarity(tfidf,tfidf)\n",
    "similares_coseno=pd.Series(datos.index).loc[obtener_similares(distancias_coseno)].values"
   ]
  },
  {
   "cell_type": "code",
   "execution_count": 21,
   "metadata": {},
   "outputs": [],
   "source": [
    "similares_coseno_filtrados = []\n",
    "for categoria in busqueda:\n",
    "    similares_coseno_filtrados.extend(datos.loc[similares_coseno].query(\"categorias==@categoria\").index)"
   ]
  },
  {
   "cell_type": "code",
   "execution_count": 22,
   "metadata": {},
   "outputs": [
    {
     "name": "stdout",
     "output_type": "stream",
     "text": [
      "Wall time: 103 ms\n"
     ]
    }
   ],
   "source": [
    "%time distancias_kernel=linear_kernel(tfidf,tfidf)\n",
    "similares_kernel=pd.Series(datos.index).loc[obtener_similares(distancias_kernel)].values"
   ]
  },
  {
   "cell_type": "code",
   "execution_count": 23,
   "metadata": {},
   "outputs": [],
   "source": [
    "similares_kernel_filtrados = []\n",
    "for categoria in busqueda:\n",
    "    similares_kernel_filtrados.extend(datos.loc[similares_kernel].query(\"categorias==@categoria\").index)"
   ]
  },
  {
   "cell_type": "code",
   "execution_count": 24,
   "metadata": {},
   "outputs": [
    {
     "data": {
      "text/plain": [
       "(126, 99)"
      ]
     },
     "execution_count": 24,
     "metadata": {},
     "output_type": "execute_result"
    }
   ],
   "source": [
    "len(similares_coseno_filtrados),len(similares_kernel_filtrados)"
   ]
  },
  {
   "cell_type": "code",
   "execution_count": 25,
   "metadata": {},
   "outputs": [],
   "source": [
    "pd.DataFrame(similares_coseno_filtrados,columns=['similares']).to_csv('similares.csv',index=False)"
   ]
  },
  {
   "cell_type": "code",
   "execution_count": 26,
   "metadata": {},
   "outputs": [
    {
     "data": {
      "text/html": [
       "<div>\n",
       "<style scoped>\n",
       "    .dataframe tbody tr th:only-of-type {\n",
       "        vertical-align: middle;\n",
       "    }\n",
       "\n",
       "    .dataframe tbody tr th {\n",
       "        vertical-align: top;\n",
       "    }\n",
       "\n",
       "    .dataframe thead th {\n",
       "        text-align: right;\n",
       "    }\n",
       "</style>\n",
       "<table border=\"1\" class=\"dataframe\">\n",
       "  <thead>\n",
       "    <tr style=\"text-align: right;\">\n",
       "      <th></th>\n",
       "      <th>categorias</th>\n",
       "      <th>tokens</th>\n",
       "      <th>etiquetas</th>\n",
       "    </tr>\n",
       "  </thead>\n",
       "  <tbody>\n",
       "    <tr>\n",
       "      <th>0</th>\n",
       "      <td>Audit</td>\n",
       "      <td>[address, move, address, yakima, minnesota, ol...</td>\n",
       "      <td>0</td>\n",
       "    </tr>\n",
       "    <tr>\n",
       "      <th>1</th>\n",
       "      <td>Audit</td>\n",
       "      <td>[test, system]</td>\n",
       "      <td>0</td>\n",
       "    </tr>\n",
       "    <tr>\n",
       "      <th>2</th>\n",
       "      <td>Audit</td>\n",
       "      <td>[test, system]</td>\n",
       "      <td>0</td>\n",
       "    </tr>\n",
       "    <tr>\n",
       "      <th>3</th>\n",
       "      <td>Audit</td>\n",
       "      <td>[time, audit, request, afternoon, would, pleas...</td>\n",
       "      <td>0</td>\n",
       "    </tr>\n",
       "    <tr>\n",
       "      <th>4</th>\n",
       "      <td>Audit</td>\n",
       "      <td>[time, audit, morn, would, provid, time, audit...</td>\n",
       "      <td>0</td>\n",
       "    </tr>\n",
       "    <tr>\n",
       "      <th>...</th>\n",
       "      <td>...</td>\n",
       "      <td>...</td>\n",
       "      <td>...</td>\n",
       "    </tr>\n",
       "    <tr>\n",
       "      <th>2851</th>\n",
       "      <td>Year-End</td>\n",
       "      <td>[follow, name, termin, verifi, ssn, verifi, do...</td>\n",
       "      <td>4</td>\n",
       "    </tr>\n",
       "    <tr>\n",
       "      <th>2852</th>\n",
       "      <td>Year-End</td>\n",
       "      <td>[inquiri, name, verifi, dob, yes, phone, numbe...</td>\n",
       "      <td>4</td>\n",
       "    </tr>\n",
       "    <tr>\n",
       "      <th>2853</th>\n",
       "      <td>Year-End</td>\n",
       "      <td>[discrep, name, ssn, confirm, dob, confirm, ph...</td>\n",
       "      <td>4</td>\n",
       "    </tr>\n",
       "    <tr>\n",
       "      <th>2854</th>\n",
       "      <td>Year-End</td>\n",
       "      <td>[inquiri, name, verifi, ssn, yes, phone, numbe...</td>\n",
       "      <td>4</td>\n",
       "    </tr>\n",
       "    <tr>\n",
       "      <th>2855</th>\n",
       "      <td>Year-End</td>\n",
       "      <td>[request]</td>\n",
       "      <td>4</td>\n",
       "    </tr>\n",
       "  </tbody>\n",
       "</table>\n",
       "<p>2856 rows × 3 columns</p>\n",
       "</div>"
      ],
      "text/plain": [
       "     categorias                                             tokens  etiquetas\n",
       "0         Audit  [address, move, address, yakima, minnesota, ol...          0\n",
       "1         Audit                                     [test, system]          0\n",
       "2         Audit                                     [test, system]          0\n",
       "3         Audit  [time, audit, request, afternoon, would, pleas...          0\n",
       "4         Audit  [time, audit, morn, would, provid, time, audit...          0\n",
       "...         ...                                                ...        ...\n",
       "2851   Year-End  [follow, name, termin, verifi, ssn, verifi, do...          4\n",
       "2852   Year-End  [inquiri, name, verifi, dob, yes, phone, numbe...          4\n",
       "2853   Year-End  [discrep, name, ssn, confirm, dob, confirm, ph...          4\n",
       "2854   Year-End  [inquiri, name, verifi, ssn, yes, phone, numbe...          4\n",
       "2855   Year-End                                          [request]          4\n",
       "\n",
       "[2856 rows x 3 columns]"
      ]
     },
     "execution_count": 26,
     "metadata": {},
     "output_type": "execute_result"
    }
   ],
   "source": [
    "datos"
   ]
  },
  {
   "cell_type": "code",
   "execution_count": 27,
   "metadata": {},
   "outputs": [],
   "source": [
    "datos.drop(index=similares_coseno_filtrados,inplace=True)"
   ]
  },
  {
   "cell_type": "code",
   "execution_count": 28,
   "metadata": {},
   "outputs": [
    {
     "data": {
      "text/html": [
       "<div>\n",
       "<style scoped>\n",
       "    .dataframe tbody tr th:only-of-type {\n",
       "        vertical-align: middle;\n",
       "    }\n",
       "\n",
       "    .dataframe tbody tr th {\n",
       "        vertical-align: top;\n",
       "    }\n",
       "\n",
       "    .dataframe thead th {\n",
       "        text-align: right;\n",
       "    }\n",
       "</style>\n",
       "<table border=\"1\" class=\"dataframe\">\n",
       "  <thead>\n",
       "    <tr style=\"text-align: right;\">\n",
       "      <th></th>\n",
       "      <th>conteo</th>\n",
       "      <th>porcentaje</th>\n",
       "      <th>acumulado</th>\n",
       "    </tr>\n",
       "  </thead>\n",
       "  <tbody>\n",
       "    <tr>\n",
       "      <th>Bswift</th>\n",
       "      <td>1053</td>\n",
       "      <td>38.571429</td>\n",
       "      <td>38.571429</td>\n",
       "    </tr>\n",
       "    <tr>\n",
       "      <th>OM (organizationa mgmt)</th>\n",
       "      <td>422</td>\n",
       "      <td>15.457875</td>\n",
       "      <td>54.029304</td>\n",
       "    </tr>\n",
       "    <tr>\n",
       "      <th>Leaves</th>\n",
       "      <td>293</td>\n",
       "      <td>10.732601</td>\n",
       "      <td>64.761905</td>\n",
       "    </tr>\n",
       "    <tr>\n",
       "      <th>Year-End</th>\n",
       "      <td>197</td>\n",
       "      <td>7.216117</td>\n",
       "      <td>71.978022</td>\n",
       "    </tr>\n",
       "    <tr>\n",
       "      <th>Time</th>\n",
       "      <td>185</td>\n",
       "      <td>6.776557</td>\n",
       "      <td>78.754579</td>\n",
       "    </tr>\n",
       "    <tr>\n",
       "      <th>Systems NA</th>\n",
       "      <td>180</td>\n",
       "      <td>6.593407</td>\n",
       "      <td>85.347985</td>\n",
       "    </tr>\n",
       "    <tr>\n",
       "      <th>HR Request</th>\n",
       "      <td>147</td>\n",
       "      <td>5.384615</td>\n",
       "      <td>90.732601</td>\n",
       "    </tr>\n",
       "    <tr>\n",
       "      <th>Interface Input</th>\n",
       "      <td>116</td>\n",
       "      <td>4.249084</td>\n",
       "      <td>94.981685</td>\n",
       "    </tr>\n",
       "    <tr>\n",
       "      <th>External Request</th>\n",
       "      <td>71</td>\n",
       "      <td>2.600733</td>\n",
       "      <td>97.582418</td>\n",
       "    </tr>\n",
       "    <tr>\n",
       "      <th>Employee Request</th>\n",
       "      <td>27</td>\n",
       "      <td>0.989011</td>\n",
       "      <td>98.571429</td>\n",
       "    </tr>\n",
       "    <tr>\n",
       "      <th>Certified Payroll</th>\n",
       "      <td>26</td>\n",
       "      <td>0.952381</td>\n",
       "      <td>99.523810</td>\n",
       "    </tr>\n",
       "    <tr>\n",
       "      <th>Audit</th>\n",
       "      <td>9</td>\n",
       "      <td>0.329670</td>\n",
       "      <td>99.853480</td>\n",
       "    </tr>\n",
       "    <tr>\n",
       "      <th>Pay Admin Request</th>\n",
       "      <td>2</td>\n",
       "      <td>0.073260</td>\n",
       "      <td>99.926740</td>\n",
       "    </tr>\n",
       "    <tr>\n",
       "      <th>Reprint Request</th>\n",
       "      <td>2</td>\n",
       "      <td>0.073260</td>\n",
       "      <td>100.000000</td>\n",
       "    </tr>\n",
       "  </tbody>\n",
       "</table>\n",
       "</div>"
      ],
      "text/plain": [
       "                         conteo  porcentaje   acumulado\n",
       "Bswift                     1053   38.571429   38.571429\n",
       "OM (organizationa mgmt)     422   15.457875   54.029304\n",
       "Leaves                      293   10.732601   64.761905\n",
       "Year-End                    197    7.216117   71.978022\n",
       "Time                        185    6.776557   78.754579\n",
       "Systems NA                  180    6.593407   85.347985\n",
       "HR Request                  147    5.384615   90.732601\n",
       "Interface Input             116    4.249084   94.981685\n",
       "External Request             71    2.600733   97.582418\n",
       "Employee Request             27    0.989011   98.571429\n",
       "Certified Payroll            26    0.952381   99.523810\n",
       "Audit                         9    0.329670   99.853480\n",
       "Pay Admin Request             2    0.073260   99.926740\n",
       "Reprint Request               2    0.073260  100.000000"
      ]
     },
     "execution_count": 28,
     "metadata": {},
     "output_type": "execute_result"
    }
   ],
   "source": [
    "conteo_categorias=datos['categorias'].value_counts()\n",
    "tabla_categorias=pd.DataFrame()\n",
    "tabla_categorias['conteo']=conteo_categorias\n",
    "tabla_categorias['porcentaje']=(conteo_categorias/datos.shape[0]*100)\n",
    "tabla_categorias['acumulado']=tabla_categorias['porcentaje'].cumsum()\n",
    "tabla_categorias"
   ]
  },
  {
   "cell_type": "code",
   "execution_count": 29,
   "metadata": {},
   "outputs": [
    {
     "data": {
      "text/html": [
       "<div>\n",
       "<style scoped>\n",
       "    .dataframe tbody tr th:only-of-type {\n",
       "        vertical-align: middle;\n",
       "    }\n",
       "\n",
       "    .dataframe tbody tr th {\n",
       "        vertical-align: top;\n",
       "    }\n",
       "\n",
       "    .dataframe thead th {\n",
       "        text-align: right;\n",
       "    }\n",
       "</style>\n",
       "<table border=\"1\" class=\"dataframe\">\n",
       "  <thead>\n",
       "    <tr style=\"text-align: right;\">\n",
       "      <th></th>\n",
       "      <th>conteo</th>\n",
       "      <th>porcentaje</th>\n",
       "      <th>acumulado</th>\n",
       "    </tr>\n",
       "  </thead>\n",
       "  <tbody>\n",
       "    <tr>\n",
       "      <th>1</th>\n",
       "      <td>1053</td>\n",
       "      <td>38.571429</td>\n",
       "      <td>38.571429</td>\n",
       "    </tr>\n",
       "    <tr>\n",
       "      <th>2</th>\n",
       "      <td>422</td>\n",
       "      <td>15.457875</td>\n",
       "      <td>54.029304</td>\n",
       "    </tr>\n",
       "    <tr>\n",
       "      <th>0</th>\n",
       "      <td>400</td>\n",
       "      <td>14.652015</td>\n",
       "      <td>68.681319</td>\n",
       "    </tr>\n",
       "    <tr>\n",
       "      <th>3</th>\n",
       "      <td>293</td>\n",
       "      <td>10.732601</td>\n",
       "      <td>79.413919</td>\n",
       "    </tr>\n",
       "    <tr>\n",
       "      <th>4</th>\n",
       "      <td>197</td>\n",
       "      <td>7.216117</td>\n",
       "      <td>86.630037</td>\n",
       "    </tr>\n",
       "    <tr>\n",
       "      <th>5</th>\n",
       "      <td>185</td>\n",
       "      <td>6.776557</td>\n",
       "      <td>93.406593</td>\n",
       "    </tr>\n",
       "    <tr>\n",
       "      <th>6</th>\n",
       "      <td>180</td>\n",
       "      <td>6.593407</td>\n",
       "      <td>100.000000</td>\n",
       "    </tr>\n",
       "  </tbody>\n",
       "</table>\n",
       "</div>"
      ],
      "text/plain": [
       "   conteo  porcentaje   acumulado\n",
       "1    1053   38.571429   38.571429\n",
       "2     422   15.457875   54.029304\n",
       "0     400   14.652015   68.681319\n",
       "3     293   10.732601   79.413919\n",
       "4     197    7.216117   86.630037\n",
       "5     185    6.776557   93.406593\n",
       "6     180    6.593407  100.000000"
      ]
     },
     "execution_count": 29,
     "metadata": {},
     "output_type": "execute_result"
    }
   ],
   "source": [
    "conteo_categorias=datos['etiquetas'].value_counts()\n",
    "tabla_categorias=pd.DataFrame()\n",
    "tabla_categorias['conteo']=conteo_categorias\n",
    "tabla_categorias['porcentaje']=(conteo_categorias/datos.shape[0]*100)\n",
    "tabla_categorias['acumulado']=tabla_categorias['porcentaje'].cumsum()\n",
    "tabla_categorias"
   ]
  },
  {
   "cell_type": "code",
   "execution_count": 35,
   "metadata": {},
   "outputs": [],
   "source": [
    "pd.DataFrame(bow,columns=['token']).to_csv('bow.csv',index=False)"
   ]
  },
  {
   "cell_type": "code",
   "execution_count": 36,
   "metadata": {},
   "outputs": [
    {
     "data": {
      "text/plain": [
       "array(['stop', 'unsubscrib', 'verifi', 'inform', 'request', 'thank',\n",
       "       'address', 'lafargeholcim', 'benefit', 'com', 'mail', 'info',\n",
       "       'www', 'need', 'ssn', 'employe', 'addit', 'resolut', 'research',\n",
       "       'bswift', 'http', 'dob', 'want', 'posit', 'notifi', 'know',\n",
       "       'insur', 'confirm', 'get', 'attach', 'confidenti', 'use', 'manag',\n",
       "       'check', 'aggreg', 'contact', 'intend', 'messag', 'fax', 'report',\n",
       "       'chang', 'provid', 'work', 'sap', 'copi', 'coverag', 'delet',\n",
       "       'time', 'cell', 'immedi', 'date', 'document', 'call', 'updat',\n",
       "       'offic', 'imag', 'recipi', 'could', 'life', 'cigna', 'std', 'sent',\n",
       "       'hour', 'industri', 'escal', 'payment', 'hello', 'lafarg', 'yes',\n",
       "       'card', 'let', 'creat', 'prohibit', 'account', 'direct',\n",
       "       'question', 'addresse', 'back', 'follow', 'death', 'pension',\n",
       "       'googl', 'compani', 'payrol', 'state', 'member', 'holcim', 'hsa',\n",
       "       'would', 'requir', 'ask', 'wife', 'sourc', 'write', 'part',\n",
       "       'system', 'also', 'make', 'telephon', 'map', 'today', 'enrol',\n",
       "       'entri', 'morn', 'medic', 'assist', 'org', 'take', 'gmail',\n",
       "       'mobil', 'one', 'contain', 'union', 'activ', 'told', 'dunde', 'go',\n",
       "       'notic', 'return', 'sender', 'access', 'health', 'spous', 'repli',\n",
       "       'team', 'add', 'upload', 'cover', 'deduct', 'support', 'certif',\n",
       "       'moment', 'help', 'subject', 'cfr', 'sinc', 'correct', 'inc',\n",
       "       'approv', 'without', 'png', 'hire', 'form', 'start', 'arbor',\n",
       "       'privileg', 'distribut', 'mylif', 'road', 'week', 'regard', 'set',\n",
       "       'retire', 'year', 'via', 'tax', 'review', 'forward', 'termin',\n",
       "       'disclosur', 'tri', 'author', 'end', 'possibl', 'secur', 'process',\n",
       "       'complet', 'like', 'list', 'covid', 'effect', 'move', 'due',\n",
       "       'transfer', 'feder', 'action', 'suit', 'paid', 'administr',\n",
       "       'strict', 'code', 'letter', 'dental', 'valid', 'busi', 'alreadi',\n",
       "       'task', 'event', 'oper', 'notif', 'retir', 'load', 'advis', 'issu',\n",
       "       'must', 'layoff', 'websit', 'explain', 'month', 'find', 'employ',\n",
       "       'save', 'full', 'enter', 'local', 'day', 'abl', 'birth', 'herebi',\n",
       "       'fund', 'previous', 'amount', 'relat', 'center', 'payflex',\n",
       "       'ticket', 'unit', 'destroy', 'per', 'detail', 'content', 'includ',\n",
       "       'open', 'communic', 'beneficiari', 'everi', 'parti', 'contribut',\n",
       "       'disclos', 'labor', 'krono', 'daughter', 'current', 'fulfil',\n",
       "       'depart', 'ab', 'drive', 'badg', 'elig', 'sure', 'child', 'charg',\n",
       "       'seattl', 'order', 'regul', 'submit', 'claim', 'anyth', 'show',\n",
       "       'assign', 'password', 'data', 'relianc', 'clock', 'afternoon',\n",
       "       'protect', 'area', 'margin', 'workforc', 'utm', 'resourc', 'smile',\n",
       "       'relationship', 'look', 'polici', 'give', 'east', 'yet', 'record',\n",
       "       'servic', 'stub', 'titl', 'specialist', 'login', 'fwd', 'note',\n",
       "       'supervisor', 'xxx', 'waiv', 'depend', 'respons', 'analyst',\n",
       "       'coordin', 'much', 'consid', 'cat', 'fiori', 'teamster', 'vacat',\n",
       "       'say', 'reason', 'well', 'type', 'case', 'rate', 'leav', 'appear',\n",
       "       'pass', 'option', 'husband', 'quarri', 'certifi', 'first',\n",
       "       'product', 'locat', 'seem', 'continu', 'region', 'vega',\n",
       "       'broadway', 'saugus', 'fri', 'environ', 'someth', 'ltd', 'miss',\n",
       "       'view', 'person', 'teco', 'log', 'bill', 'deceas', 'wait',\n",
       "       'everyth', 'citi', 'print', 'handl', 'remov', 'great', 'onlin',\n",
       "       'solut', 'web', 'care', 'mani', 'longer', 'incorrect', 'medicar',\n",
       "       'program', 'necessari', 'marriag', 'rmx', 'status', 'tue', 'avail',\n",
       "       'reach', 'come', 'contract', 'eeoc', 'disabl', 'next', 'recommend',\n",
       "       'readi', 'two', 'home', 'counti', 'period', 'hospit', 'proof',\n",
       "       'credit', 'visit', 'found', 'total', 'reimburs', 'never',\n",
       "       'paystub', 'usa', 'cancel', 'vision', 'wed', 'test', 'howev',\n",
       "       'famili', 'happen', 'ext', 'central', 'intern', 'someon', 'digit',\n",
       "       'origin', 'septemb', 'januari', 'away', 'salari', 'kind', 'portal',\n",
       "       'quarantin', 'applic', 'rtw', 'timesheet', 'result', 'unless',\n",
       "       'attent', 'materi', 'nevertheless', 'differ', 'run', 'virgin',\n",
       "       'puls', 'even', 'verif', 'dissemin', 'inquiri', 'close', 'screen',\n",
       "       'incent', 'answer', 'share', 'cement', 'delimit', 'financi',\n",
       "       'think', 'reflect', 'presqu', 'audit', 'els', 'fidel', 'project',\n",
       "       'vaccin', 'cobra', 'octob', 'market', 'statement', 'tier', 'recal',\n",
       "       'symptom', 'sick', 'right', 'individu', 'do', 'accept', 'doc',\n",
       "       'pii', 'dept', 'collect', 'adjust', 'univers', 'deposit', 'recent',\n",
       "       'concern', 'pay', 'anoth', 'tell', 'user', 'schedul', 'past',\n",
       "       'releas', 'three', 'plan', 'signatur', 'design', 'twn', 'ucm',\n",
       "       'mention', 'turn', 'premium', 'term', 'repres', 'ago', 'site',\n",
       "       'februari', 'blvd', 'lake', 'wrong', 'america', 'illinoi',\n",
       "       'profil', 'put', 'item', 'reject', 'section', 'invest', 'texa',\n",
       "       'sign', 'tobacco', 'doubl', 'mid', 'cont', 'holiday', 'risk',\n",
       "       'spreadsheet', 'greenbelt', 'select', 'accord', 'father',\n",
       "       'partner', 'keep', 'within', 'appli', 'build', 'eff', 'believ',\n",
       "       'pend', 'atlant', 'thursday', 'ritm', 'usernam', 'iphon',\n",
       "       'determin', 'expens', 'normal', 'sever', 'consent', 'instruct',\n",
       "       'puoc', 'comput', 'personnel', 'except', 'allow', 'talk', 'reset',\n",
       "       'receipt', 'custom', 'lose', 'ensur', 'general', 'owe', 'medium',\n",
       "       'ascii', 'old', 'await', 'non', 'refund', 'asphalt', 'supervisori',\n",
       "       'por', 'jul', 'rout', 'transmitt', 'campaign', 'triangl',\n",
       "       'perform', 'yesterday', 'realli', 'exempt', 'corpor', 'peopl',\n",
       "       'paycheck', 'attorney', 'ravena', 'yeferson', 'prevent', 'swr',\n",
       "       'organ', 'vacant', 'unabl', 'suppos', 'asap', 'doctor', 'pdf',\n",
       "       'moorhead', 'canada', 'extern', 'chicago', 'colombia', 'aug',\n",
       "       'ukg', 'respond', 'timecard', 'unemploy', 'colorado', 'problem',\n",
       "       'chequ', 'urgent', 'voluntari', 'wednesday', 'adc', 'mainten',\n",
       "       'zixmail', 'mechan', 'respect', 'import', 'disclaim', 'feb',\n",
       "       'proprietari', 'stay', 'devic', 'fireston', 'engin', 'overtim',\n",
       "       'gov', 'larim', 'cdc', 'social', 'annual', 'window', 'marri',\n",
       "       'loss', 'around', 'directaport', 'refer', 'ship', 'condit',\n",
       "       'treatment', 'surviv', 'wage', 'con', 'tel', 'download', 'sep',\n",
       "       'osha', 'jolt', 'agre', 'inbound', 'proceed', 'exclus', 'resolv',\n",
       "       'behalf', 'avenu', 'retro', 'hra', 'separ', 'investig',\n",
       "       'materialsthatperform', 'remain', 'nov', 'increas', 'oct',\n",
       "       'safeti', 'complianc', 'summari', 'welfar', 'error', 'haul',\n",
       "       'airport', 'input', 'ldw', 'entitl', 'etc', 'instead', 'divorc',\n",
       "       'appropri', 'sensit', 'job', 'advanc', 'agent', 'initi', 'file',\n",
       "       'medel', 'app', 'equifax', 'virtru', 'fssc', 'analysi', 'attn',\n",
       "       'balanc', 'shall', 'incom', 'understand', 'zip', 'fsa', 'decemb',\n",
       "       'paperwork', 'touch', 'permit', 'entiti', 'basic', 'fee', 'sole',\n",
       "       'encourag', 'version', 'net', 'carrera', 'certain', 'equal',\n",
       "       'paperless', 'match', 'timekeep', 'guid', 'minut', 'base',\n",
       "       'electron', 'midlothian', 'thought', 'appreci', 'former',\n",
       "       'lakewood', 'fill', 'dad', 'deliv', 'sphr', 'step', 'docdna',\n",
       "       'generat', 'internet', 'membership', 'virus', 'html', 'auto',\n",
       "       'temp', 'skanska', 'opt', 'express', 'place', 'particip', 'though',\n",
       "       'american', 'bank', 'enabl', 'chart', 'brotherhood', 'tanker',\n",
       "       'driver', 'vous', 'webmanag', 'theworknumb', 'ppay', 'tci', 'usf'],\n",
       "      dtype=object)"
      ]
     },
     "execution_count": 36,
     "metadata": {},
     "output_type": "execute_result"
    }
   ],
   "source": [
    "bow"
   ]
  },
  {
   "cell_type": "code",
   "execution_count": null,
   "metadata": {},
   "outputs": [],
   "source": []
  }
 ],
 "metadata": {
  "kernelspec": {
   "display_name": "Python 3",
   "language": "python",
   "name": "python3"
  },
  "language_info": {
   "codemirror_mode": {
    "name": "ipython",
    "version": 3
   },
   "file_extension": ".py",
   "mimetype": "text/x-python",
   "name": "python",
   "nbconvert_exporter": "python",
   "pygments_lexer": "ipython3",
   "version": "3.8.5"
  }
 },
 "nbformat": 4,
 "nbformat_minor": 4
}
